{
 "cells": [
  {
   "cell_type": "markdown",
   "id": "57340756",
   "metadata": {},
   "source": [
    "#### 1:Set the variable test1 to the string 'This is a test of the emergency text system,' and save test1 to a file named test.txt."
   ]
  },
  {
   "cell_type": "code",
   "execution_count": 1,
   "id": "2103566d",
   "metadata": {},
   "outputs": [
    {
     "name": "stdout",
     "output_type": "stream",
     "text": [
      "This is a test of the emergency text system,\n"
     ]
    }
   ],
   "source": [
    "test1 = 'This is a test of the emergency text system,'\n",
    "print(test1)\n",
    "with open('test.txt','w') as file:\n",
    "    file.write(test1)\n",
    "    file.close()"
   ]
  },
  {
   "cell_type": "code",
   "execution_count": 2,
   "id": "255b7929",
   "metadata": {},
   "outputs": [
    {
     "name": "stdout",
     "output_type": "stream",
     "text": [
      "This is a test of the emergency text system,\n"
     ]
    }
   ],
   "source": [
    "! type test.txt "
   ]
  },
  {
   "cell_type": "code",
   "execution_count": null,
   "id": "45124461",
   "metadata": {},
   "outputs": [],
   "source": []
  },
  {
   "cell_type": "markdown",
   "id": "d48f308b",
   "metadata": {},
   "source": [
    "#### 2:Read the contents of the file test.txt into the variable test2. Is there a difference between test 1 and test 2?"
   ]
  },
  {
   "cell_type": "code",
   "execution_count": 3,
   "id": "237042b0",
   "metadata": {},
   "outputs": [
    {
     "name": "stdout",
     "output_type": "stream",
     "text": [
      "This is a test of the emergency text system,\n",
      "True\n"
     ]
    }
   ],
   "source": [
    "with open('test.txt','r') as file:\n",
    "    test2 = file.read()\n",
    "    \n",
    "print(test2)   \n",
    "print(test1 == test2)"
   ]
  },
  {
   "cell_type": "code",
   "execution_count": null,
   "id": "c98fbc8f",
   "metadata": {},
   "outputs": [],
   "source": []
  },
  {
   "cell_type": "markdown",
   "id": "9f33f562",
   "metadata": {},
   "source": [
    "#### 3:Create a CSV file called books.csv by using these lines: title,author,year The Weirdstone of Brisingamen,Alan Garner,1960 Perdido Street Station,China Miéville,2000 Thud!,Terry Pratchett,2005 The Spellman Files,Lisa Lutz,2007 Small Gods,Terry Pratchett,1992"
   ]
  },
  {
   "cell_type": "code",
   "execution_count": 4,
   "id": "22d36205",
   "metadata": {},
   "outputs": [],
   "source": [
    "data = '''title,author,year\n",
    "The Weirdstone of Brisingamen,Alan Garner,1960\n",
    "Perdido Street Station,China Miéville,2000\n",
    "Thud!,Terry Pratchett,2005\n",
    "The Spellman Files,Lisa Lutz,2007\n",
    "Small Gods,Terry Pratchett,1992'''\n",
    "\n",
    "with open('books.csv','w') as file:\n",
    "    file.write(data)"
   ]
  },
  {
   "cell_type": "code",
   "execution_count": null,
   "id": "bd32dad7",
   "metadata": {},
   "outputs": [],
   "source": []
  },
  {
   "cell_type": "markdown",
   "id": "c67d0c89",
   "metadata": {},
   "source": [
    "#### 4:Use the sqlite3 module to create a SQLite database called books.db, and a table called books with these fields: title (text), author (text), and year (integer)."
   ]
  },
  {
   "cell_type": "code",
   "execution_count": 5,
   "id": "d469a4f9",
   "metadata": {},
   "outputs": [],
   "source": [
    "import sqlite3\n",
    "db = sqlite3.connect('books.db')\n",
    "cursor = db.cursor()\n",
    "cursor.execute(\"CREATE TABLE books (title text, author text, year int)\")\n",
    "db.commit()\n",
    "db.close()"
   ]
  },
  {
   "cell_type": "code",
   "execution_count": null,
   "id": "28a82fd8",
   "metadata": {},
   "outputs": [],
   "source": []
  },
  {
   "cell_type": "markdown",
   "id": "3f242a1d",
   "metadata": {},
   "source": [
    "#### 5: Read books.csv and insert its data into the book table."
   ]
  },
  {
   "cell_type": "code",
   "execution_count": 7,
   "id": "c24a8c8b",
   "metadata": {},
   "outputs": [],
   "source": [
    "import sqlite3\n",
    "import csv\n",
    "conn = sqlite3.connect(\"books.db\")\n",
    "cursor = conn.cursor()\n",
    "with open(\"books.csv\",\"r\") as file:\n",
    "    books = csv.DictReader(file)\n",
    "    for book in books:\n",
    "        cursor.execute(\"INSERT INTO books VALUES (?,?,?)\",(book['title'],book['author'],book['year']))\n",
    "conn.commit()\n",
    "conn.close()"
   ]
  },
  {
   "cell_type": "code",
   "execution_count": null,
   "id": "5053ad3c",
   "metadata": {},
   "outputs": [],
   "source": []
  },
  {
   "cell_type": "markdown",
   "id": "1a42fddd",
   "metadata": {},
   "source": [
    "#### 6:Select and print the title column from the book table in alphabetical order."
   ]
  },
  {
   "cell_type": "code",
   "execution_count": 8,
   "id": "1d1730d2",
   "metadata": {},
   "outputs": [
    {
     "name": "stdout",
     "output_type": "stream",
     "text": [
      "Perdido Street Station\n",
      "Small Gods\n",
      "The Spellman Files\n",
      "The Weirdstone of Brisingamen\n",
      "Thud!\n"
     ]
    }
   ],
   "source": [
    "import sqlite3\n",
    "conn = sqlite3.connect('books.db')\n",
    "cursor = conn.cursor()\n",
    "output = cursor.execute(\"SELECT title FROM books ORDER BY title ASC\")\n",
    "for ele in output:\n",
    "    print(ele[0])\n",
    "conn.commit()\n",
    "conn.close()"
   ]
  },
  {
   "cell_type": "code",
   "execution_count": null,
   "id": "be5b5383",
   "metadata": {},
   "outputs": [],
   "source": []
  },
  {
   "cell_type": "markdown",
   "id": "0e4d40f7",
   "metadata": {},
   "source": [
    "#### 7:From the book table, select and print all columns in the order of publication."
   ]
  },
  {
   "cell_type": "code",
   "execution_count": 1,
   "id": "b4463ff2",
   "metadata": {},
   "outputs": [
    {
     "name": "stdout",
     "output_type": "stream",
     "text": [
      "('The Weirdstone of Brisingamen', 'Alan Garner', 1960)\n",
      "('Small Gods', 'Terry Pratchett', 1992)\n",
      "('Perdido Street Station', 'China Miéville', 2000)\n",
      "('Thud!', 'Terry Pratchett', 2005)\n",
      "('The Spellman Files', 'Lisa Lutz', 2007)\n"
     ]
    }
   ],
   "source": [
    "import sqlite3\n",
    "conn = sqlite3.connect('books.db')\n",
    "cursor = conn.cursor()\n",
    "ouput = cursor.execute(\"SELECT * FROM books ORDER BY year\")\n",
    "for record in ouput:\n",
    "    print(record)"
   ]
  },
  {
   "cell_type": "code",
   "execution_count": null,
   "id": "d0208b72",
   "metadata": {},
   "outputs": [],
   "source": []
  },
  {
   "cell_type": "markdown",
   "id": "8864535c",
   "metadata": {},
   "source": [
    "#### 8:Use the sqlalchemy module to connect to the sqlite3 database books.db that you just made in exercise 6."
   ]
  },
  {
   "cell_type": "code",
   "execution_count": 7,
   "id": "66cef5b7",
   "metadata": {},
   "outputs": [
    {
     "data": {
      "text/plain": [
       "Engine(sqlite:///books.db)"
      ]
     },
     "execution_count": 7,
     "metadata": {},
     "output_type": "execute_result"
    }
   ],
   "source": [
    "import sqlalchemy\n",
    "conn = sqlalchemy.create_engine('sqlite:///books.db')\n",
    "conn"
   ]
  },
  {
   "cell_type": "code",
   "execution_count": 3,
   "id": "2c27cc58",
   "metadata": {},
   "outputs": [
    {
     "name": "stdout",
     "output_type": "stream",
     "text": [
      "Collecting redis\n",
      "  Downloading redis-4.5.5-py3-none-any.whl (240 kB)\n",
      "                                              0.0/240.3 kB ? eta -:--:--\n",
      "                                              0.0/240.3 kB ? eta -:--:--\n",
      "     -                                        10.2/240.3 kB ? eta -:--:--\n",
      "     -                                        10.2/240.3 kB ? eta -:--:--\n",
      "     -                                        10.2/240.3 kB ? eta -:--:--\n",
      "     -                                        10.2/240.3 kB ? eta -:--:--\n",
      "     -                                        10.2/240.3 kB ? eta -:--:--\n",
      "     -                                        10.2/240.3 kB ? eta -:--:--\n",
      "     --------------                        92.2/240.3 kB 291.5 kB/s eta 0:00:01\n",
      "     --------------                        92.2/240.3 kB 291.5 kB/s eta 0:00:01\n",
      "     --------------                        92.2/240.3 kB 291.5 kB/s eta 0:00:01\n",
      "     --------------                        92.2/240.3 kB 291.5 kB/s eta 0:00:01\n",
      "     --------------                        92.2/240.3 kB 291.5 kB/s eta 0:00:01\n",
      "     --------------------------           174.1/240.3 kB 327.7 kB/s eta 0:00:01\n",
      "     --------------------------           174.1/240.3 kB 327.7 kB/s eta 0:00:01\n",
      "     --------------------------           174.1/240.3 kB 327.7 kB/s eta 0:00:01\n",
      "     -----------------------------------  235.5/240.3 kB 351.4 kB/s eta 0:00:01\n",
      "     ------------------------------------ 240.3/240.3 kB 350.8 kB/s eta 0:00:00\n",
      "Collecting async-timeout>=4.0.2 (from redis)\n",
      "  Downloading async_timeout-4.0.2-py3-none-any.whl (5.8 kB)\n",
      "Installing collected packages: async-timeout, redis\n",
      "Successfully installed async-timeout-4.0.2 redis-4.5.5\n"
     ]
    }
   ],
   "source": [
    "! python -m pip install redis"
   ]
  },
  {
   "cell_type": "code",
   "execution_count": 6,
   "id": "a6fe41be",
   "metadata": {},
   "outputs": [
    {
     "name": "stdout",
     "output_type": "stream",
     "text": [
      "Collecting SQLAlchemyNote: you may need to restart the kernel to use updated packages.\n",
      "\n",
      "  Downloading SQLAlchemy-2.0.15-cp311-cp311-win_amd64.whl (2.0 MB)\n",
      "                                              0.0/2.0 MB ? eta -:--:--\n",
      "                                              0.0/2.0 MB ? eta -:--:--\n",
      "                                              0.0/2.0 MB ? eta -:--:--\n",
      "                                              0.0/2.0 MB ? eta -:--:--\n",
      "                                              0.0/2.0 MB ? eta -:--:--\n",
      "                                              0.0/2.0 MB ? eta -:--:--\n",
      "                                              0.0/2.0 MB ? eta -:--:--\n",
      "                                              0.0/2.0 MB ? eta -:--:--\n",
      "                                              0.0/2.0 MB ? eta -:--:--\n",
      "     --                                       0.1/2.0 MB 273.1 kB/s eta 0:00:07\n",
      "     --                                       0.1/2.0 MB 273.1 kB/s eta 0:00:07\n",
      "     --                                       0.1/2.0 MB 273.1 kB/s eta 0:00:07\n",
      "     --                                       0.1/2.0 MB 273.1 kB/s eta 0:00:07\n",
      "     --                                       0.1/2.0 MB 200.4 kB/s eta 0:00:10\n",
      "     ----                                     0.2/2.0 MB 368.0 kB/s eta 0:00:05\n",
      "     ----                                     0.2/2.0 MB 368.0 kB/s eta 0:00:05\n",
      "     ----                                     0.2/2.0 MB 368.0 kB/s eta 0:00:05\n",
      "     -----                                    0.3/2.0 MB 340.9 kB/s eta 0:00:05\n",
      "     ------                                   0.3/2.0 MB 398.3 kB/s eta 0:00:05\n",
      "     -------                                  0.4/2.0 MB 417.2 kB/s eta 0:00:04\n",
      "     -------                                  0.4/2.0 MB 417.2 kB/s eta 0:00:04\n",
      "     -------                                  0.4/2.0 MB 417.2 kB/s eta 0:00:04\n",
      "     ----------                               0.5/2.0 MB 504.4 kB/s eta 0:00:03\n",
      "     ------------                             0.6/2.0 MB 578.5 kB/s eta 0:00:03\n",
      "     ------------                             0.6/2.0 MB 578.5 kB/s eta 0:00:03\n",
      "     ------------                             0.6/2.0 MB 578.5 kB/s eta 0:00:03\n",
      "     ---------------                          0.8/2.0 MB 630.7 kB/s eta 0:00:02\n",
      "     ----------------                         0.8/2.0 MB 663.9 kB/s eta 0:00:02\n",
      "     -------------------                      0.9/2.0 MB 718.5 kB/s eta 0:00:02\n",
      "     ---------------------                    1.1/2.0 MB 774.5 kB/s eta 0:00:02\n",
      "     ---------------------                    1.1/2.0 MB 774.5 kB/s eta 0:00:02\n",
      "     ---------------------                    1.1/2.0 MB 774.5 kB/s eta 0:00:02\n",
      "     ---------------------------              1.4/2.0 MB 899.0 kB/s eta 0:00:01\n",
      "     ---------------------------              1.4/2.0 MB 899.0 kB/s eta 0:00:01\n",
      "     ----------------------------             1.4/2.0 MB 904.7 kB/s eta 0:00:01\n",
      "     ----------------------------             1.4/2.0 MB 904.7 kB/s eta 0:00:01\n",
      "     ----------------------------             1.4/2.0 MB 904.7 kB/s eta 0:00:01\n",
      "     --------------------------------         1.6/2.0 MB 918.7 kB/s eta 0:00:01\n",
      "     --------------------------------         1.6/2.0 MB 918.7 kB/s eta 0:00:01\n",
      "     --------------------------------         1.6/2.0 MB 918.7 kB/s eta 0:00:01\n",
      "     --------------------------------         1.6/2.0 MB 918.7 kB/s eta 0:00:01\n",
      "     --------------------------------         1.6/2.0 MB 918.7 kB/s eta 0:00:01\n",
      "     --------------------------------         1.6/2.0 MB 918.7 kB/s eta 0:00:01\n",
      "     ---------------------------------------  2.0/2.0 MB 970.6 kB/s eta 0:00:01\n",
      "     ---------------------------------------- 2.0/2.0 MB 958.5 kB/s eta 0:00:00\n",
      "Collecting typing-extensions>=4.2.0 (from SQLAlchemy)\n",
      "  Downloading typing_extensions-4.6.2-py3-none-any.whl (31 kB)\n",
      "Collecting greenlet!=0.4.17 (from SQLAlchemy)\n",
      "  Downloading greenlet-2.0.2-cp311-cp311-win_amd64.whl (192 kB)\n",
      "                                              0.0/192.5 kB ? eta -:--:--\n",
      "     ------------------------------------- 192.5/192.5 kB 11.4 MB/s eta 0:00:00\n",
      "Installing collected packages: typing-extensions, greenlet, SQLAlchemy\n",
      "Successfully installed SQLAlchemy-2.0.15 greenlet-2.0.2 typing-extensions-4.6.2\n"
     ]
    }
   ],
   "source": [
    "pip install SQLAlchemy"
   ]
  },
  {
   "cell_type": "markdown",
   "id": "e4af1c0e",
   "metadata": {},
   "source": [
    "#### 9:Install the Redis server and the Python redis library (pip install redis) on your computer. Create a Redis hash called test with the fields count (1) and name ('Fester Bestertester'). Print all the fields for test."
   ]
  },
  {
   "cell_type": "code",
   "execution_count": null,
   "id": "0ad48c15",
   "metadata": {},
   "outputs": [],
   "source": [
    "import redis\n",
    "conn = redis.Redis()\n",
    "conn.hset('test',{\n",
    "    'count':1,\n",
    "    'name':'Fester Bestertester'\n",
    "})\n",
    "conn.hgetall('test')"
   ]
  },
  {
   "cell_type": "code",
   "execution_count": null,
   "id": "ca804c08",
   "metadata": {},
   "outputs": [],
   "source": []
  },
  {
   "cell_type": "markdown",
   "id": "5ee2ef13",
   "metadata": {},
   "source": [
    "#### 10:Increment the count field of test and print it."
   ]
  },
  {
   "cell_type": "code",
   "execution_count": null,
   "id": "c02b38d5",
   "metadata": {},
   "outputs": [],
   "source": [
    "conn.hincrby('test', 'count', 1)\n",
    "conn.hget('test', 'count')"
   ]
  },
  {
   "cell_type": "code",
   "execution_count": null,
   "id": "5c77b2a8",
   "metadata": {},
   "outputs": [],
   "source": []
  }
 ],
 "metadata": {
  "kernelspec": {
   "display_name": "Python 3 (ipykernel)",
   "language": "python",
   "name": "python3"
  },
  "language_info": {
   "codemirror_mode": {
    "name": "ipython",
    "version": 3
   },
   "file_extension": ".py",
   "mimetype": "text/x-python",
   "name": "python",
   "nbconvert_exporter": "python",
   "pygments_lexer": "ipython3",
   "version": "3.11.2"
  }
 },
 "nbformat": 4,
 "nbformat_minor": 5
}
