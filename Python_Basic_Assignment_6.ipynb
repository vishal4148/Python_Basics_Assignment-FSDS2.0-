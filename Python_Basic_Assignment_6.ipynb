{
 "cells": [
  {
   "cell_type": "markdown",
   "id": "899aaf44",
   "metadata": {},
   "source": [
    "### 1. What are escape characters, and how do you use them?"
   ]
  },
  {
   "cell_type": "markdown",
   "id": "c41e31b1",
   "metadata": {},
   "source": [
    "#### Ans : An escape character is a backslach \\ followed by the character you want to insert"
   ]
  },
  {
   "cell_type": "code",
   "execution_count": 5,
   "id": "e1886c2d",
   "metadata": {},
   "outputs": [],
   "source": [
    "#Example\n",
    "a = \"My name is \\\"vishal\\\" and i am learning Data science in INeuron\""
   ]
  },
  {
   "cell_type": "code",
   "execution_count": 6,
   "id": "01780f90",
   "metadata": {},
   "outputs": [
    {
     "name": "stdout",
     "output_type": "stream",
     "text": [
      "My name is \"vishal\" and i am learning Data science in INeuron\n"
     ]
    }
   ],
   "source": [
    "print(a)\n"
   ]
  },
  {
   "cell_type": "code",
   "execution_count": null,
   "id": "0772298c",
   "metadata": {},
   "outputs": [],
   "source": []
  },
  {
   "cell_type": "markdown",
   "id": "fc7a9218",
   "metadata": {},
   "source": [
    "### 2. What do the escape characters n and t stand for?"
   ]
  },
  {
   "cell_type": "markdown",
   "id": "27261637",
   "metadata": {},
   "source": [
    "#### Ans: \\n is a newline, \\t is a tab"
   ]
  },
  {
   "cell_type": "code",
   "execution_count": null,
   "id": "b4d96e8b",
   "metadata": {},
   "outputs": [],
   "source": []
  },
  {
   "cell_type": "markdown",
   "id": "10e46cb2",
   "metadata": {},
   "source": [
    "### 3. What is the way to include backslash characters in a string?"
   ]
  },
  {
   "cell_type": "markdown",
   "id": "b30f27a9",
   "metadata": {},
   "source": [
    "#### Ans: The \\ (escape) will represent a backslash character"
   ]
  },
  {
   "cell_type": "code",
   "execution_count": null,
   "id": "7358a13f",
   "metadata": {},
   "outputs": [],
   "source": []
  },
  {
   "cell_type": "markdown",
   "id": "e1e965f1",
   "metadata": {},
   "source": [
    "### 4. The string \"How Moving Castle\" is a correct value. Why isn't  the single quote character in the word Howl's not escaped a problem?"
   ]
  },
  {
   "cell_type": "markdown",
   "id": "ef97724b",
   "metadata": {},
   "source": [
    "#### Ans : You used double quotes to the mark the beginning and end of the string.Single quote in Howl's is fine"
   ]
  },
  {
   "cell_type": "code",
   "execution_count": null,
   "id": "281c46df",
   "metadata": {},
   "outputs": [],
   "source": []
  },
  {
   "cell_type": "markdown",
   "id": "dfa168c5",
   "metadata": {},
   "source": [
    "### 5. How do you write a string of newlines if you don't want to use the n character?"
   ]
  },
  {
   "cell_type": "markdown",
   "id": "953ac0cc",
   "metadata": {},
   "source": [
    "#### Ans : Multiline string allow you to use newlines in string without use of \\n escape. "
   ]
  },
  {
   "cell_type": "code",
   "execution_count": null,
   "id": "d7b146db",
   "metadata": {},
   "outputs": [],
   "source": []
  },
  {
   "cell_type": "markdown",
   "id": "fbf102f8",
   "metadata": {},
   "source": [
    "### 6. What are the values of the given expressions?\n",
    "'Hello, world!'[1]\n",
    "\n",
    "'Hello, world!'[0:5]\n",
    "\n",
    "'Hello, world!'[:5]\n",
    "\n",
    "'Hello, world!'[3:]\n"
   ]
  },
  {
   "cell_type": "markdown",
   "id": "e4053924",
   "metadata": {},
   "source": [
    "#### Ans: 'e','Hello','Hello','lo,world!'"
   ]
  },
  {
   "cell_type": "code",
   "execution_count": null,
   "id": "c0ba610b",
   "metadata": {},
   "outputs": [],
   "source": []
  },
  {
   "cell_type": "markdown",
   "id": "ac2793ee",
   "metadata": {},
   "source": [
    "### 7. What are the values of the following expressions?\n",
    "'Hello'.upper()\n",
    "\n",
    "'Hello'.upper().isupper()\n",
    "\n",
    "'Hello'.upper().lower()\n"
   ]
  },
  {
   "cell_type": "markdown",
   "id": "de37fc52",
   "metadata": {},
   "source": [
    "#### Ans : 'HELLO','True','hello'"
   ]
  },
  {
   "cell_type": "code",
   "execution_count": null,
   "id": "f407f15e",
   "metadata": {},
   "outputs": [],
   "source": []
  },
  {
   "cell_type": "markdown",
   "id": "87f9c478",
   "metadata": {},
   "source": [
    "### 8. What are the values of the following expressions?\n",
    "'Remember, remember, the fifth of July.'.split()\n",
    "\n",
    "'-'.join('There can only one.'.split())\n"
   ]
  },
  {
   "cell_type": "markdown",
   "id": "b1d6f52c",
   "metadata": {},
   "source": [
    "#### Ans: ['Remember,', 'remember,', 'the', 'fifth', 'of', 'July.'],'There-can-only-one.'\n",
    "\n"
   ]
  },
  {
   "cell_type": "code",
   "execution_count": null,
   "id": "f73ff32a",
   "metadata": {},
   "outputs": [],
   "source": []
  },
  {
   "cell_type": "markdown",
   "id": "2b7fef32",
   "metadata": {},
   "source": [
    "### 9. What are the methods for right-justifying, left-justifying, and centering a string?"
   ]
  },
  {
   "cell_type": "markdown",
   "id": "caf56175",
   "metadata": {},
   "source": [
    "#### Ans : The rjust(),ljust(),and center() string methods this are use to above operations"
   ]
  },
  {
   "cell_type": "code",
   "execution_count": null,
   "id": "abc19562",
   "metadata": {},
   "outputs": [],
   "source": []
  },
  {
   "cell_type": "markdown",
   "id": "0183afc0",
   "metadata": {},
   "source": [
    "### 10. What is the best way to remove whitespace characters from the start or end?"
   ]
  },
  {
   "cell_type": "markdown",
   "id": "904134cf",
   "metadata": {},
   "source": [
    "#### Ans : To remove whitespace character from start or end we use lstrip() and rstrip() methods in string."
   ]
  },
  {
   "cell_type": "code",
   "execution_count": null,
   "id": "3a4a1e79",
   "metadata": {},
   "outputs": [],
   "source": []
  }
 ],
 "metadata": {
  "kernelspec": {
   "display_name": "Python 3 (ipykernel)",
   "language": "python",
   "name": "python3"
  },
  "language_info": {
   "codemirror_mode": {
    "name": "ipython",
    "version": 3
   },
   "file_extension": ".py",
   "mimetype": "text/x-python",
   "name": "python",
   "nbconvert_exporter": "python",
   "pygments_lexer": "ipython3",
   "version": "3.9.12"
  }
 },
 "nbformat": 4,
 "nbformat_minor": 5
}
