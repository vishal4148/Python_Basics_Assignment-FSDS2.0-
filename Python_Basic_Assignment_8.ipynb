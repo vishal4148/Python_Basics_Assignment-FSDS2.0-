{
 "cells": [
  {
   "cell_type": "markdown",
   "id": "5df1b9a7",
   "metadata": {},
   "source": [
    "### 1. Is the Python Standard Library included with PyInputPlus?\n",
    "Ans : PyInputPlus is not a part of the Python Standard Library, we must install it separately using Pip."
   ]
  },
  {
   "cell_type": "code",
   "execution_count": null,
   "id": "bb97cbb9",
   "metadata": {},
   "outputs": [],
   "source": []
  },
  {
   "cell_type": "markdown",
   "id": "bc5d5c0d",
   "metadata": {},
   "source": [
    "### 2. Why is PyInputPlus commonly imported with import pyinputplus as pypi?\n",
    "Ans : You can import the module with import pyinputplus as pyip so that you can enter a shorter name when calling the module's functions. PyInputPlus has functions for entering a variety of input, including strings, numbers, dates, yes/no, True/False, emails, and files."
   ]
  },
  {
   "cell_type": "code",
   "execution_count": null,
   "id": "3ddaee4c",
   "metadata": {},
   "outputs": [],
   "source": []
  },
  {
   "cell_type": "markdown",
   "id": "83c30844",
   "metadata": {},
   "source": [
    "### 3. How do you distinguish between inputInt() and inputFloat()?\n",
    "Ans : 1) inputInt() :  Accepts an integer value. This also takes additional parameters 'min', 'max', 'greaterThan' and 'lessThan' for bounds. Returns an int\n",
    "\n",
    "      2) inputFloat() : Accepts a floating-point numeric value"
   ]
  },
  {
   "cell_type": "code",
   "execution_count": null,
   "id": "30521ab8",
   "metadata": {},
   "outputs": [],
   "source": []
  },
  {
   "cell_type": "markdown",
   "id": "ed7b737f",
   "metadata": {},
   "source": [
    "### 4. Using PyInputPlus, how do you ensure that the user enters a whole number between 0 and 99?\n",
    "Ans:  In the inputint function we can set the min = 0 and max = 99 to ensure user enters number between 0 to 99\n",
    "\n",
    "pyip.inputInt(min = 0, max = 99)\n"
   ]
  },
  {
   "cell_type": "code",
   "execution_count": null,
   "id": "864f797b",
   "metadata": {},
   "outputs": [],
   "source": []
  },
  {
   "cell_type": "markdown",
   "id": "cfd79989",
   "metadata": {},
   "source": [
    "### 5. What is transferred to the keyword arguments allowRegexes and blockRegexes?\n",
    "Ans: We can use regular expressions to specify whether an input is allowed or not.\n",
    "\n",
    "The allowRegexes and blockRegexes keyword arguments take an list of regular expression\n",
    "strings to determine what the PyInputPlus function will accept or reject as valid input.\n",
    "\n",
    "Ex:\n",
    "\n",
    "    pyip.inputNum(allowRegexes=[r'(I|V|X|L|C|D|M)+', r'zero']) #it allowes roman letters as numbers too\n",
    "    pyip.inputNum(blockRegexes=[r\"[02468]$\"])  "
   ]
  },
  {
   "cell_type": "code",
   "execution_count": null,
   "id": "9b383352",
   "metadata": {},
   "outputs": [],
   "source": []
  },
  {
   "cell_type": "markdown",
   "id": "190021d8",
   "metadata": {},
   "source": [
    "### 6. If a blank input is entered three times, what does inputStr(limit=3) do?\n",
    "Ans: inputStr(limit=3) will throw RetryLimitException exception."
   ]
  },
  {
   "cell_type": "code",
   "execution_count": null,
   "id": "6bb569ab",
   "metadata": {},
   "outputs": [],
   "source": []
  },
  {
   "cell_type": "markdown",
   "id": "bd5db805",
   "metadata": {},
   "source": [
    "### 7. If blank input is entered three times, what does inputStr(limit=3, default='hello') do?\n",
    "Ans : When you use limit keyword arguments and also pass a default keyword argument"
   ]
  },
  {
   "cell_type": "code",
   "execution_count": null,
   "id": "6b5f3294",
   "metadata": {},
   "outputs": [],
   "source": []
  }
 ],
 "metadata": {
  "kernelspec": {
   "display_name": "Python 3 (ipykernel)",
   "language": "python",
   "name": "python3"
  },
  "language_info": {
   "codemirror_mode": {
    "name": "ipython",
    "version": 3
   },
   "file_extension": ".py",
   "mimetype": "text/x-python",
   "name": "python",
   "nbconvert_exporter": "python",
   "pygments_lexer": "ipython3",
   "version": "3.9.12"
  }
 },
 "nbformat": 4,
 "nbformat_minor": 5
}
