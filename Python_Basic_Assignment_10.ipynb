{
 "cells": [
  {
   "cell_type": "markdown",
   "id": "89d2fa8f",
   "metadata": {},
   "source": [
    "### 1. How do you distinguish between shutil.copy() and shutil.copytree()?\n",
    "Ans:  shutil. copy() will copy a single file, shutil. copytree() will copy an entire folder and every folder and file contained in it."
   ]
  },
  {
   "cell_type": "code",
   "execution_count": null,
   "id": "742e1e67",
   "metadata": {},
   "outputs": [],
   "source": []
  },
  {
   "cell_type": "markdown",
   "id": "e6e77c4f",
   "metadata": {},
   "source": [
    "### 2. What function is used to rename files??\n",
    "Ans: os.rename() function is used to rename files or directories using a python program, this function takes two arguments src and dest, src represents the name file/directory which we want to rename, whereas dest represents the new name of the file/directory."
   ]
  },
  {
   "cell_type": "code",
   "execution_count": null,
   "id": "38768f8b",
   "metadata": {},
   "outputs": [],
   "source": []
  },
  {
   "cell_type": "markdown",
   "id": "e6631289",
   "metadata": {},
   "source": [
    "### 3. What is the difference between the delete functions in the send2trash and shutil modules?\n",
    "Ans: 1) Shutil= module provides a funciton called as shutil.rmtree() which deletes a directory and all its contents. The other functions with similar functionality are os.remove() that removes a file, os.rmdir() removes an empty directory. The problem with these functions are once a file is deleted, it will be lost permanently, if a file is deleted accidentally using these methods there is no way we can recover the deleted file.\n",
    "\n",
    " 2)send2trash= module provides a function called send2trash.send2trash() to delete a file/directory. These methods moves the files/directories to trash folder instead of permanently deleting them, hence if a file/folder is deleted accidentally it can be still recovered from trash folder, if the file is deleted using the send2trash.send2trash() function. send2trash is not included with python standard libary like os & shutil modules, it needs to be installed explicitly using the command !pip install send2trash."
   ]
  },
  {
   "cell_type": "code",
   "execution_count": null,
   "id": "7f516e35",
   "metadata": {},
   "outputs": [],
   "source": []
  },
  {
   "cell_type": "markdown",
   "id": "68d27906",
   "metadata": {},
   "source": [
    "### 4.ZipFile objects have a close() method just like File objects’ close() method. What ZipFile method is equivalent to File objects’ open() method?\n",
    "Ans : ZipFile Module provides a method called as zipfile.ZipFile() to read and write to zipFiles. It takes arugments lile filename and mode etc.\n",
    "\n",
    "Syntax is:\n",
    "\n",
    "zipfile.ZipFile('filename', mode = 'r')"
   ]
  },
  {
   "cell_type": "code",
   "execution_count": null,
   "id": "65267b60",
   "metadata": {},
   "outputs": [],
   "source": []
  },
  {
   "cell_type": "markdown",
   "id": "8bcbbc5e",
   "metadata": {},
   "source": [
    "### 5. Create a programme that searches a folder tree for files with a certain file extension (such as .pdf or .jpg). Copy these files from whatever location they are in to a new folder.\n",
    "Ans: "
   ]
  },
  {
   "cell_type": "code",
   "execution_count": null,
   "id": "58ad5ce5",
   "metadata": {},
   "outputs": [],
   "source": []
  },
  {
   "cell_type": "code",
   "execution_count": null,
   "id": "82d72ca6",
   "metadata": {},
   "outputs": [],
   "source": [
    "import os\n",
    "import shutil\n",
    "\n",
    "\n",
    "# Defining the function\n",
    "def search_and_copy(source,destination,extensions):\n",
    "    source = os.path.abspath(source)\n",
    "    destination = os.path.abspath(destination)\n",
    "    for foldername, subfolder, filenames in os.walk(source):\n",
    "        print(f'Folder Name : {foldername}',end='\\n\\n')\n",
    "        print(f'Sub Folders : {subfolder}',end='\\n\\n')\n",
    "        print(f'Files : {filenames}',end='\\n\\n')\n",
    "        for filename in filenames:\n",
    "            fileName,extension = os.path.splitext(filename)\n",
    "            if extension in extensions:\n",
    "                targetFile = foldername+os.path.sep+fileName+extension\n",
    "                shutil.copy(targetFile, destination)\n",
    "        print(f'Files copied successfully from {source} to {destination}')\n",
    "        break\n",
    "\n",
    "# extensions: here we will also serch for file with extension '.ipynb'        \n",
    "extensions = ['.pdf','.jpg','.ipynb']\n",
    "\n",
    "# Source folder\n",
    "source = os.getcwd()\n",
    "\n",
    "# Destination folder\n",
    "dirName = 'Dummy Destination'\n",
    "\n",
    "if not os.path.exists(dirName):\n",
    "    os.mkdir(dirName) \n",
    "\n",
    "destination = 'C:\\Users\\MJP\\Desktop\\DataScienceDailyLecture\\Python Basic assignment(Imp_Dashbord)\\Dummy Destination'\n",
    "\n",
    "# Calling the function\n",
    "search_and_copy(source, destination, extensions)"
   ]
  }
 ],
 "metadata": {
  "kernelspec": {
   "display_name": "Python 3 (ipykernel)",
   "language": "python",
   "name": "python3"
  },
  "language_info": {
   "codemirror_mode": {
    "name": "ipython",
    "version": 3
   },
   "file_extension": ".py",
   "mimetype": "text/x-python",
   "name": "python",
   "nbconvert_exporter": "python",
   "pygments_lexer": "ipython3",
   "version": "3.9.12"
  }
 },
 "nbformat": 4,
 "nbformat_minor": 5
}
