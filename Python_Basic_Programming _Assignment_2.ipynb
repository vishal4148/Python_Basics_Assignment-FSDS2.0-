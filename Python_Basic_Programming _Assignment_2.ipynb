{
 "cells": [
  {
   "cell_type": "markdown",
   "id": "ec35f11d",
   "metadata": {},
   "source": [
    "#### 1:Write a Python program to convert kilometers to miles?"
   ]
  },
  {
   "cell_type": "code",
   "execution_count": 1,
   "id": "119e0eb9",
   "metadata": {},
   "outputs": [
    {
     "name": "stdout",
     "output_type": "stream",
     "text": [
      "Enter the distance in kilometer: 10\n",
      "The converted value of 10 kilometer in miles is : 6.21371 miles\n"
     ]
    }
   ],
   "source": [
    "a=int(input(\"Enter the distance in kilometer: \"))\n",
    "\n",
    "print(f\"The converted value of {a} kilometer in miles is : {a*0.621371} miles\")\n",
    "     "
   ]
  },
  {
   "cell_type": "code",
   "execution_count": null,
   "id": "ad17bc0f",
   "metadata": {},
   "outputs": [],
   "source": []
  },
  {
   "cell_type": "markdown",
   "id": "8f3c7ca0",
   "metadata": {},
   "source": [
    "#### 2:Write a Python program to convert Celsius to Fahrenheit?"
   ]
  },
  {
   "cell_type": "code",
   "execution_count": null,
   "id": "20f3d4f2",
   "metadata": {},
   "outputs": [],
   "source": [
    "a=int(input(\"Enter the temperature in celsius: \"))\n",
    "\n",
    "print(f\"The converted value of {a} degree celsius in fahrenheit is : {(a*1.8)+32}"
   ]
  },
  {
   "cell_type": "code",
   "execution_count": null,
   "id": "898eb71b",
   "metadata": {},
   "outputs": [],
   "source": []
  },
  {
   "cell_type": "markdown",
   "id": "6b116e47",
   "metadata": {},
   "source": [
    "#### 3:Write a Python program to display calendar?"
   ]
  },
  {
   "cell_type": "code",
   "execution_count": 6,
   "id": "1bc363f6",
   "metadata": {},
   "outputs": [
    {
     "name": "stdout",
     "output_type": "stream",
     "text": [
      "Enter year: 2000\n",
      "Enter month(like jan=1, feb=2 etc): 1\n",
      "   \n",
      "    January 2000\n",
      "Mo Tu We Th Fr Sa Su\n",
      "                1  2\n",
      " 3  4  5  6  7  8  9\n",
      "10 11 12 13 14 15 16\n",
      "17 18 19 20 21 22 23\n",
      "24 25 26 27 28 29 30\n",
      "31\n",
      "\n"
     ]
    }
   ],
   "source": [
    "import calendar\n",
    "\n",
    "# To take month and year input from the user\n",
    "year = int(input(\"Enter year: \"))\n",
    "month = int(input(\"Enter month(like jan=1, feb=2 etc): \"))\n",
    "\n",
    "print(\"   \")\n",
    "# display the calendar\n",
    "print(calendar.month(year, month))\n",
    "     "
   ]
  },
  {
   "cell_type": "code",
   "execution_count": null,
   "id": "1174053a",
   "metadata": {},
   "outputs": [],
   "source": []
  },
  {
   "cell_type": "markdown",
   "id": "91781fc6",
   "metadata": {},
   "source": [
    "#### 4:Write a Python program to solve quadratic equation?"
   ]
  },
  {
   "cell_type": "code",
   "execution_count": 7,
   "id": "3ad7fb73",
   "metadata": {},
   "outputs": [
    {
     "name": "stdout",
     "output_type": "stream",
     "text": [
      "Enter the first number: 7\n",
      "Enter the second number: 8\n",
      "Enter the third number: 9\n",
      "The solution are 0 and 1':((-0.5714285714285714-0.9793792286287205j), (-0.5714285714285714+0.9793792286287205j))\n"
     ]
    }
   ],
   "source": [
    "import cmath\n",
    "a=int(input(\"Enter the first number: \"))\n",
    "b=int(input(\"Enter the second number: \"))\n",
    "c=int(input(\"Enter the third number: \"))\n",
    "\n",
    "# calculate the discriminant\n",
    "d = (b**2) - (4*a*c)\n",
    "\n",
    "# find two solutions\n",
    "sol1 = (-b-cmath.sqrt(d))/(2*a)\n",
    "sol2 = (-b+cmath.sqrt(d))/(2*a)\n",
    "\n",
    "print(f\"The solution are {0} and {1}':{sol1,sol2}\")"
   ]
  },
  {
   "cell_type": "code",
   "execution_count": null,
   "id": "56c93d73",
   "metadata": {},
   "outputs": [],
   "source": []
  },
  {
   "cell_type": "markdown",
   "id": "5aa8d512",
   "metadata": {},
   "source": [
    "#### 5:Write a Python program to swap two variables without temp variable?"
   ]
  },
  {
   "cell_type": "code",
   "execution_count": 8,
   "id": "2297549a",
   "metadata": {},
   "outputs": [
    {
     "name": "stdout",
     "output_type": "stream",
     "text": [
      "Enter the first number: 22\n",
      "Enter the second number: 34\n",
      "The numbers before swapping are: 22 and 34\n",
      "The numbers after swapping are: 34 and 22\n"
     ]
    }
   ],
   "source": [
    "a=int(input(\"Enter the first number: \"))\n",
    "b=int(input(\"Enter the second number: \"))\n",
    "print(f\"The numbers before swapping are: {a} and {b}\")\n",
    "a,b=b,a\n",
    "\n",
    "print(f\"The numbers after swapping are: {a} and {b}\")\n"
   ]
  },
  {
   "cell_type": "code",
   "execution_count": null,
   "id": "684c2c85",
   "metadata": {},
   "outputs": [],
   "source": []
  }
 ],
 "metadata": {
  "kernelspec": {
   "display_name": "Python 3 (ipykernel)",
   "language": "python",
   "name": "python3"
  },
  "language_info": {
   "codemirror_mode": {
    "name": "ipython",
    "version": 3
   },
   "file_extension": ".py",
   "mimetype": "text/x-python",
   "name": "python",
   "nbconvert_exporter": "python",
   "pygments_lexer": "ipython3",
   "version": "3.11.2"
  }
 },
 "nbformat": 4,
 "nbformat_minor": 5
}
