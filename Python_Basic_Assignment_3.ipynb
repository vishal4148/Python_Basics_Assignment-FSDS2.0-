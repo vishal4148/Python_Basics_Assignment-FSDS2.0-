{
 "cells": [
  {
   "cell_type": "markdown",
   "id": "d9fc8567",
   "metadata": {},
   "source": [
    "### 1. Why are functions advantageous to have in your programs?"
   ]
  },
  {
   "cell_type": "markdown",
   "id": "fcf52179",
   "metadata": {},
   "source": [
    "#### Ans: Function makes programs shorter , easier to read and maintain the code. Function reduce the need of duplicate code. "
   ]
  },
  {
   "cell_type": "code",
   "execution_count": null,
   "id": "530aee7e",
   "metadata": {},
   "outputs": [],
   "source": []
  },
  {
   "cell_type": "markdown",
   "id": "7a79e02b",
   "metadata": {},
   "source": [
    "### 2. When does the code in a function run: when it&#39;s specified or when it&#39;s called?"
   ]
  },
  {
   "cell_type": "markdown",
   "id": "fa59e74e",
   "metadata": {},
   "source": [
    "#### Ans: The code in a function executes when the function is called"
   ]
  },
  {
   "cell_type": "code",
   "execution_count": null,
   "id": "2da8267e",
   "metadata": {},
   "outputs": [],
   "source": []
  },
  {
   "cell_type": "markdown",
   "id": "01455eee",
   "metadata": {},
   "source": [
    "### 3. What statement creates a function?"
   ]
  },
  {
   "cell_type": "markdown",
   "id": "80002714",
   "metadata": {},
   "source": [
    "#### Ans: def statement create a function"
   ]
  },
  {
   "cell_type": "code",
   "execution_count": null,
   "id": "fda3a965",
   "metadata": {},
   "outputs": [],
   "source": []
  },
  {
   "cell_type": "markdown",
   "id": "a409c3ff",
   "metadata": {},
   "source": [
    "### 4. What is the difference between a function and a function call?"
   ]
  },
  {
   "cell_type": "markdown",
   "id": "e53e70eb",
   "metadata": {},
   "source": [
    "#### Ans : 1) function : A function consists of the def statement and the code in the clause.\n",
    "   ####  2) function call : A function call is what moves the program execution into the function and the function call evaluates to the function return values"
   ]
  },
  {
   "cell_type": "code",
   "execution_count": null,
   "id": "d2582043",
   "metadata": {},
   "outputs": [],
   "source": []
  },
  {
   "cell_type": "markdown",
   "id": "05a84c09",
   "metadata": {},
   "source": [
    "### 5. How many global scopes are there in a Python program? How many local scopes?"
   ]
  },
  {
   "cell_type": "markdown",
   "id": "08f325a7",
   "metadata": {},
   "source": [
    "#### Ans : There are two types of scopes in python one is global scope and local scope is create whenever a function is called."
   ]
  },
  {
   "cell_type": "code",
   "execution_count": null,
   "id": "7ce2dc2b",
   "metadata": {},
   "outputs": [],
   "source": []
  },
  {
   "cell_type": "markdown",
   "id": "e65a7f55",
   "metadata": {},
   "source": [
    "### 6. What happens to variables in a local scope when the function call returns?"
   ]
  },
  {
   "cell_type": "markdown",
   "id": "fe0dd509",
   "metadata": {},
   "source": [
    "#### Ans: When variables in local scope and its run then local scope is destroyed."
   ]
  },
  {
   "cell_type": "code",
   "execution_count": null,
   "id": "e9736a1e",
   "metadata": {},
   "outputs": [],
   "source": []
  },
  {
   "cell_type": "markdown",
   "id": "ec0c103a",
   "metadata": {},
   "source": [
    "### 7. What is the concept of a return value? Is it possible to have a return value in an expression?"
   ]
  },
  {
   "cell_type": "markdown",
   "id": "b838e51b",
   "metadata": {},
   "source": [
    "#### Ans: A return value is the value that a function call evaluates to like any value , a return value can be used as part of an expression"
   ]
  },
  {
   "cell_type": "code",
   "execution_count": null,
   "id": "8662649b",
   "metadata": {},
   "outputs": [],
   "source": []
  },
  {
   "cell_type": "markdown",
   "id": "0abf093c",
   "metadata": {},
   "source": [
    "### 8. If a function does not have a return statement, what is the return value of a call to that function?"
   ]
  },
  {
   "cell_type": "markdown",
   "id": "6883db47",
   "metadata": {},
   "source": [
    "#### Ans : There are no return statement then is no return statement for a function , its return values is None"
   ]
  },
  {
   "cell_type": "code",
   "execution_count": null,
   "id": "d5c4b81b",
   "metadata": {},
   "outputs": [],
   "source": []
  },
  {
   "cell_type": "markdown",
   "id": "7d7c81c7",
   "metadata": {},
   "source": [
    "### 9. How do you make a function variable refer to the global variable?"
   ]
  },
  {
   "cell_type": "markdown",
   "id": "a382470e",
   "metadata": {},
   "source": [
    "#### Ans : A global statement will force a variable in a function to refer to the global variable"
   ]
  },
  {
   "cell_type": "code",
   "execution_count": null,
   "id": "a9c949bf",
   "metadata": {},
   "outputs": [],
   "source": []
  },
  {
   "cell_type": "markdown",
   "id": "24574279",
   "metadata": {},
   "source": [
    "### 10. What is the data type of None?"
   ]
  },
  {
   "cell_type": "markdown",
   "id": "41d5c715",
   "metadata": {},
   "source": [
    "#### Ans: Data type of None is NoneType"
   ]
  },
  {
   "cell_type": "code",
   "execution_count": null,
   "id": "f00dd9b7",
   "metadata": {},
   "outputs": [],
   "source": []
  },
  {
   "cell_type": "markdown",
   "id": "41cb4fb8",
   "metadata": {},
   "source": [
    "### 11. What does the sentence import areallyourpetsnamederic do?"
   ]
  },
  {
   "cell_type": "markdown",
   "id": "c9321142",
   "metadata": {},
   "source": [
    "#### Ans : That import statement imports a module named areallyourpetsnamedric"
   ]
  },
  {
   "cell_type": "code",
   "execution_count": null,
   "id": "018e157b",
   "metadata": {},
   "outputs": [],
   "source": []
  },
  {
   "cell_type": "markdown",
   "id": "03c6303b",
   "metadata": {},
   "source": [
    "### 12. If you had a bacon() feature in a spam module, what would you call it after importing spam?"
   ]
  },
  {
   "cell_type": "markdown",
   "id": "ad457ab5",
   "metadata": {},
   "source": [
    "#### Ans : The function can be called as spam.bacon()"
   ]
  },
  {
   "cell_type": "code",
   "execution_count": null,
   "id": "86c371cb",
   "metadata": {},
   "outputs": [],
   "source": []
  },
  {
   "cell_type": "markdown",
   "id": "04ff9ec4",
   "metadata": {},
   "source": [
    "### 13. What can you do to save a programme from crashing if it encounters an error?"
   ]
  },
  {
   "cell_type": "markdown",
   "id": "960952b8",
   "metadata": {},
   "source": [
    "#### Ans : In program we place the line of code that might cause an error in a try clause."
   ]
  },
  {
   "cell_type": "code",
   "execution_count": null,
   "id": "f0844ae7",
   "metadata": {},
   "outputs": [],
   "source": []
  },
  {
   "cell_type": "markdown",
   "id": "90aa4518",
   "metadata": {},
   "source": [
    "### 14. What is the purpose of the try clause? What is the purpose of the except clause?"
   ]
  },
  {
   "cell_type": "markdown",
   "id": "8b6486a9",
   "metadata": {},
   "source": [
    "#### Ans : The part of code that could potentially cause an error goes in the try clause. The executes if an error happens goes in the except clause."
   ]
  },
  {
   "cell_type": "code",
   "execution_count": null,
   "id": "b1852fd1",
   "metadata": {},
   "outputs": [],
   "source": []
  }
 ],
 "metadata": {
  "kernelspec": {
   "display_name": "Python 3 (ipykernel)",
   "language": "python",
   "name": "python3"
  },
  "language_info": {
   "codemirror_mode": {
    "name": "ipython",
    "version": 3
   },
   "file_extension": ".py",
   "mimetype": "text/x-python",
   "name": "python",
   "nbconvert_exporter": "python",
   "pygments_lexer": "ipython3",
   "version": "3.9.12"
  }
 },
 "nbformat": 4,
 "nbformat_minor": 5
}
