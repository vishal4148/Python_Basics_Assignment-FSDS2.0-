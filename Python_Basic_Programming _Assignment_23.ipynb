{
 "cells": [
  {
   "cell_type": "markdown",
   "id": "18cb5773",
   "metadata": {},
   "source": [
    "#### Question 1\n",
    "Create a function that takes a number as an argument and returns True or False depending\n",
    "on whether the number is symmetrical or not. A number is symmetrical when it is the same as\n",
    "its reverse.\n",
    "\n",
    "Examples\n",
    "\n",
    "is_symmetrical(7227) ➞ True\n",
    "\n",
    "is_symmetrical(12567) ➞ False\n",
    "\n",
    "is_symmetrical(44444444) ➞ True\n",
    "\n",
    "is_symmetrical(9939) ➞ False\n",
    "\n",
    "is_symmetrical(1112111) ➞ True"
   ]
  },
  {
   "cell_type": "code",
   "execution_count": 1,
   "id": "35e354ca",
   "metadata": {},
   "outputs": [
    {
     "name": "stdout",
     "output_type": "stream",
     "text": [
      "7227 ➞ True\n",
      "12567 ➞ False\n",
      "44444444 ➞ True\n",
      "9939 ➞ False\n",
      "1112111 ➞ True\n"
     ]
    }
   ],
   "source": [
    "def is_symmetrical(in_num):\n",
    "    if str(in_num) == str(in_num)[::-1]:\n",
    "        print(f'{in_num} ➞ {True}')\n",
    "    else:\n",
    "        print(f'{in_num} ➞ {False}')\n",
    "\n",
    "is_symmetrical(7227)\n",
    "is_symmetrical(12567)\n",
    "is_symmetrical(44444444)\n",
    "is_symmetrical(9939)\n",
    "is_symmetrical(1112111)"
   ]
  },
  {
   "cell_type": "code",
   "execution_count": null,
   "id": "fb59e673",
   "metadata": {},
   "outputs": [],
   "source": []
  },
  {
   "cell_type": "markdown",
   "id": "b69baf51",
   "metadata": {},
   "source": [
    "#### Question 2. Given a string of numbers separated by a comma and space, return the product of the numbers."
   ]
  },
  {
   "cell_type": "code",
   "execution_count": 2,
   "id": "95182eff",
   "metadata": {},
   "outputs": [
    {
     "name": "stdout",
     "output_type": "stream",
     "text": [
      "2, 3 ➞ 6\n",
      "1, 2, 3, 4 ➞ 24\n",
      "54, 75, 453, 0 ➞ 0\n",
      "10, -2 ➞ -20\n"
     ]
    }
   ],
   "source": [
    "def multiply_nums(in_string):\n",
    "    out_string = in_string.replace(' ','').split(',')\n",
    "    out_num = 1\n",
    "    for ele in out_string:\n",
    "        out_num *= int(ele)\n",
    "    print(f'{in_string} ➞ {out_num}')\n",
    "    \n",
    "multiply_nums(\"2, 3\")\n",
    "multiply_nums(\"1, 2, 3, 4\")\n",
    "multiply_nums(\"54, 75, 453, 0\")\n",
    "multiply_nums(\"10, -2\")"
   ]
  },
  {
   "cell_type": "code",
   "execution_count": null,
   "id": "00851c13",
   "metadata": {},
   "outputs": [],
   "source": []
  },
  {
   "cell_type": "markdown",
   "id": "e16f937d",
   "metadata": {},
   "source": [
    "#### Question 3. Create a function that squares every digit of a number."
   ]
  },
  {
   "cell_type": "code",
   "execution_count": 3,
   "id": "2cd2c784",
   "metadata": {},
   "outputs": [
    {
     "name": "stdout",
     "output_type": "stream",
     "text": [
      "9119 ➞ 811181\n",
      "2483 ➞ 416649\n",
      "3212 ➞ 9414\n"
     ]
    }
   ],
   "source": [
    "def square_digits(in_num):\n",
    "    in_list = [str(int(ele)**2) for ele in str(in_num)]\n",
    "    out_list = ''.join(in_list)\n",
    "    print(f'{in_num} ➞ {int(out_list)}')\n",
    "\n",
    "square_digits(9119)\n",
    "square_digits(2483)\n",
    "square_digits(3212)"
   ]
  },
  {
   "cell_type": "code",
   "execution_count": null,
   "id": "b6144f5e",
   "metadata": {},
   "outputs": [],
   "source": []
  },
  {
   "cell_type": "markdown",
   "id": "7769f3b3",
   "metadata": {},
   "source": [
    "#### Question 4. Create a function that sorts a list and removes all duplicate items from it."
   ]
  },
  {
   "cell_type": "code",
   "execution_count": 4,
   "id": "2879c090",
   "metadata": {},
   "outputs": [
    {
     "name": "stdout",
     "output_type": "stream",
     "text": [
      "[1, 3, 3, 5, 5] ➞ [1, 3, 5]\n",
      "[4, 4, 4, 4] ➞ [4]\n",
      "[5, 7, 8, 9, 10, 15] ➞ [5, 7, 8, 9, 10, 15]\n",
      "[3, 3, 3, 2, 1] ➞ [1, 2, 3]\n"
     ]
    }
   ],
   "source": [
    "def setify(in_list):\n",
    "    out_list = sorted(set(in_list))\n",
    "    print(f'{in_list} ➞ {out_list}')\n",
    "    \n",
    "setify([1, 3, 3, 5, 5]) \n",
    "setify([4, 4, 4, 4])\n",
    "setify([5, 7, 8, 9, 10, 15])\n",
    "setify([3, 3, 3, 2, 1])"
   ]
  },
  {
   "cell_type": "code",
   "execution_count": null,
   "id": "a91530ce",
   "metadata": {},
   "outputs": [],
   "source": []
  },
  {
   "cell_type": "markdown",
   "id": "2214f38f",
   "metadata": {},
   "source": [
    "#### Question 5. Create a function that returns the mean of all digits."
   ]
  },
  {
   "cell_type": "code",
   "execution_count": 5,
   "id": "0e339bbc",
   "metadata": {},
   "outputs": [
    {
     "name": "stdout",
     "output_type": "stream",
     "text": [
      "Mean of 42  ➞ 3\n",
      "Mean of 12345  ➞ 3\n",
      "Mean of 666  ➞ 6\n"
     ]
    }
   ],
   "source": [
    "def mean(in_num):\n",
    "    in_list = [int(ele) for ele in str(in_num)]\n",
    "    out_num = sum(in_list)/len(str(in_num))\n",
    "    print(f'Mean of {in_num}  ➞ {out_num:.0f}')\n",
    "    \n",
    "mean(42)\n",
    "mean(12345)\n",
    "mean(666)"
   ]
  },
  {
   "cell_type": "code",
   "execution_count": null,
   "id": "e9e4901e",
   "metadata": {},
   "outputs": [],
   "source": []
  }
 ],
 "metadata": {
  "kernelspec": {
   "display_name": "Python 3 (ipykernel)",
   "language": "python",
   "name": "python3"
  },
  "language_info": {
   "codemirror_mode": {
    "name": "ipython",
    "version": 3
   },
   "file_extension": ".py",
   "mimetype": "text/x-python",
   "name": "python",
   "nbconvert_exporter": "python",
   "pygments_lexer": "ipython3",
   "version": "3.11.2"
  }
 },
 "nbformat": 4,
 "nbformat_minor": 5
}
