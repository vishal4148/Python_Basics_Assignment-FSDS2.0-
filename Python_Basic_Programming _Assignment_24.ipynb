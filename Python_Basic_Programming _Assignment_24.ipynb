{
 "cells": [
  {
   "cell_type": "markdown",
   "id": "90a55356",
   "metadata": {},
   "source": [
    "#### Question1\n",
    "Create a function that takes an integer and returns a list from 1 to the given number, where:\n",
    "1. If the number can be divided evenly by 4, amplify it by 10 (i.e. return 10 times the\n",
    "number).\n",
    "2. If the number cannot be divided evenly by 4, simply return the number.\n",
    "\n",
    "Examples\n",
    "\n",
    "amplify(4) ➞ [1, 2, 3, 40]\n",
    "\n",
    "amplify(3) ➞ [1, 2, 3]\n",
    "\n",
    "amplify(25) ➞ [1, 2, 3, 40, 5, 6, 7, 80, 9, 10, 11, 120, 13, 14, 15, 160,\n",
    "17, 18, 19, 200, 21, 22, 23, 240, 25]\n",
    "\n",
    "Notes\n",
    "\n",
    " The given integer will always be equal to or greater than 1.\n",
    "\n",
    " Include the number (see example above).\n",
    "\n",
    " To perform this problem with its intended purpose, try doing it with list\n",
    "comprehensions. If that&#39;s too difficult, just solve the challenge any way you can."
   ]
  },
  {
   "cell_type": "code",
   "execution_count": 1,
   "id": "3cff1a15",
   "metadata": {},
   "outputs": [
    {
     "name": "stdout",
     "output_type": "stream",
     "text": [
      "4 ➞ [1, 2, 3, 40]\n",
      "3 ➞ [1, 2, 3]\n",
      "25 ➞ [1, 2, 3, 40, 5, 6, 7, 80, 9, 10, 11, 120, 13, 14, 15, 160, 17, 18, 19, 200, 21, 22, 23, 240, 25]\n"
     ]
    }
   ],
   "source": [
    "def amplify(in_num):\n",
    "    out_list = []\n",
    "    for ele in range(1,in_num+1):\n",
    "        if ele%4 == 0:\n",
    "            out_list.append(ele*10)\n",
    "        else:\n",
    "            out_list.append(ele)\n",
    "    print(f'{in_num} ➞ {out_list}')\n",
    "            \n",
    "amplify(4)\n",
    "amplify(3)\n",
    "amplify(25)"
   ]
  },
  {
   "cell_type": "code",
   "execution_count": null,
   "id": "b0641b3f",
   "metadata": {},
   "outputs": [],
   "source": []
  },
  {
   "cell_type": "markdown",
   "id": "dd0f5467",
   "metadata": {},
   "source": [
    "#### Question2\n",
    "Create a function that takes a list of numbers and return the number that&#39;s unique.\n",
    "\n",
    "Examples\n",
    "\n",
    "unique([3, 3, 3, 7, 3, 3]) ➞ 7\n",
    "\n",
    "unique([0, 0, 0.77, 0, 0]) ➞ 0.77\n",
    "\n",
    "unique([0, 1, 1, 1, 1, 1, 1, 1]) ➞ 0\n",
    "\n",
    "Notes\n",
    "\n",
    "Test cases will always have exactly one unique number while all others are the same."
   ]
  },
  {
   "cell_type": "code",
   "execution_count": 2,
   "id": "3791192c",
   "metadata": {},
   "outputs": [
    {
     "name": "stdout",
     "output_type": "stream",
     "text": [
      "[3, 3, 3, 7, 3, 3] ➞ 7\n",
      "[0, 0, 0.77, 0, 0] ➞ 0.77\n",
      "[0, 1, 1, 1, 1, 1, 1, 1] ➞ 0\n"
     ]
    }
   ],
   "source": [
    "def unique(in_list):\n",
    "    out_num = ''\n",
    "    for ele in set(in_list):\n",
    "        if in_list.count(ele) == 1:\n",
    "            out_num = ele\n",
    "    print(f'{in_list} ➞ {out_num}')\n",
    "\n",
    "unique([3, 3, 3, 7, 3, 3])\n",
    "unique([0, 0, 0.77, 0, 0])\n",
    "unique([0, 1, 1, 1, 1, 1, 1, 1])"
   ]
  },
  {
   "cell_type": "code",
   "execution_count": null,
   "id": "0d956fbf",
   "metadata": {},
   "outputs": [],
   "source": []
  },
  {
   "cell_type": "markdown",
   "id": "2ea0e074",
   "metadata": {},
   "source": [
    "#### Question3\n",
    "\n",
    "Your task is to create a Circle constructor that creates a circle with a radius provided by an\n",
    "argument. The circles constructed must have two getters getArea() (PIr^2) and\n",
    "getPerimeter() (2PI*r) which give both respective areas and perimeter (circumference).\n",
    "\n",
    "For help with this class, I have provided you with a Rectangle constructor which you can use\n",
    "as a base example.\n",
    "\n",
    "Examples\n",
    "\n",
    "circy = Circle(11)\n",
    "circy.getArea()\n",
    "\n",
    " Should return 380.132711084365\n",
    "circy = Circle(4.44)\n",
    "\n",
    "circy.getPerimeter()\n",
    "Should return 27.897342763877365\n",
    "\n",
    "Notes\n",
    "Round results up to the nearest integer."
   ]
  },
  {
   "cell_type": "code",
   "execution_count": 3,
   "id": "8bea00e6",
   "metadata": {},
   "outputs": [
    {
     "name": "stdout",
     "output_type": "stream",
     "text": [
      "Radius ➞ 380\n",
      "Perimeter ➞ 28\n"
     ]
    }
   ],
   "source": [
    "import math\n",
    "\n",
    "class Circle:\n",
    "    def __init__(self, radius):\n",
    "        self.radius = radius\n",
    "    def getArea(self):\n",
    "        print(f'Radius ➞ {round(math.pi*self.radius*self.radius)}')\n",
    "    def getPerimeter(self):\n",
    "        print(f'Perimeter ➞ {round(2*math.pi*self.radius)}')\n",
    "    \n",
    "circy = Circle(11)\n",
    "circy.getArea()\n",
    "\n",
    "circy = Circle(4.44)\n",
    "circy.getPerimeter()"
   ]
  },
  {
   "cell_type": "code",
   "execution_count": null,
   "id": "1a453bf3",
   "metadata": {},
   "outputs": [],
   "source": []
  },
  {
   "cell_type": "markdown",
   "id": "3635475e",
   "metadata": {},
   "source": [
    "#### Question4. Create a function that takes a list of strings and return a list, sorted from shortest to longest."
   ]
  },
  {
   "cell_type": "code",
   "execution_count": 4,
   "id": "1750f5ea",
   "metadata": {},
   "outputs": [
    {
     "name": "stdout",
     "output_type": "stream",
     "text": [
      "['Apple', 'Google', 'Microsoft']\n",
      "['Raphael', 'Leonardo', 'Donatello', 'Michelangelo']\n",
      "['Jung', 'Turing', 'Einstein']\n"
     ]
    }
   ],
   "source": [
    "def sort_by_length(in_list):\n",
    "    print(sorted(in_list,key=len))\n",
    "\n",
    "sort_by_length([\"Google\", \"Apple\", \"Microsoft\"])\n",
    "sort_by_length([\"Leonardo\", \"Michelangelo\", \"Raphael\", \"Donatello\"])\n",
    "sort_by_length([\"Turing\", \"Einstein\", \"Jung\"])"
   ]
  },
  {
   "cell_type": "code",
   "execution_count": null,
   "id": "726ec802",
   "metadata": {},
   "outputs": [],
   "source": []
  },
  {
   "cell_type": "markdown",
   "id": "fae3d009",
   "metadata": {},
   "source": [
    "#### Question5. Create a function that validates whether three given integers form a Pythagorean triplet. The sum of the squares of the two smallest integers must equal the square of the largest number to be validated."
   ]
  },
  {
   "cell_type": "code",
   "execution_count": 5,
   "id": "4499d416",
   "metadata": {},
   "outputs": [
    {
     "name": "stdout",
     "output_type": "stream",
     "text": [
      "(3, 4, 5) ➞ True\n",
      "(3, 4, 5) ➞ True\n",
      "(1, 2, 3) ➞ False\n"
     ]
    }
   ],
   "source": [
    "def is_triplet(a,b,c):\n",
    "    if ((a**2+b**2) == (c**2)):\n",
    "        print(f'{a,b,c} ➞ {True}')\n",
    "    else:\n",
    "        print(f'{a,b,c} ➞ {False}')\n",
    "        \n",
    "is_triplet(3, 4, 5)\n",
    "is_triplet(3, 4, 5)\n",
    "is_triplet(1, 2, 3)"
   ]
  },
  {
   "cell_type": "code",
   "execution_count": null,
   "id": "5f21182f",
   "metadata": {},
   "outputs": [],
   "source": []
  }
 ],
 "metadata": {
  "kernelspec": {
   "display_name": "Python 3 (ipykernel)",
   "language": "python",
   "name": "python3"
  },
  "language_info": {
   "codemirror_mode": {
    "name": "ipython",
    "version": 3
   },
   "file_extension": ".py",
   "mimetype": "text/x-python",
   "name": "python",
   "nbconvert_exporter": "python",
   "pygments_lexer": "ipython3",
   "version": "3.11.2"
  }
 },
 "nbformat": 4,
 "nbformat_minor": 5
}
