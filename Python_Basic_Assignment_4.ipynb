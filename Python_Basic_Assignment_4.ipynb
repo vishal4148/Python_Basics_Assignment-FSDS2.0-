{
 "cells": [
  {
   "cell_type": "markdown",
   "id": "c7905826",
   "metadata": {},
   "source": [
    "### 1. What exactly is []?"
   ]
  },
  {
   "cell_type": "markdown",
   "id": "44086ccb",
   "metadata": {},
   "source": [
    "#### Ans: Which is a list value that contain no items. The empty list value."
   ]
  },
  {
   "cell_type": "code",
   "execution_count": null,
   "id": "3f1f5d85",
   "metadata": {},
   "outputs": [],
   "source": []
  },
  {
   "cell_type": "markdown",
   "id": "1e56dfbb",
   "metadata": {},
   "source": [
    "### 2. In a list of values stored in a variable called spam, how would you assign the value &#39;hello&#39; as the third value? (Assume [2, 4, 6, 8, 10] are in spam.)"
   ]
  },
  {
   "cell_type": "markdown",
   "id": "5aeb3720",
   "metadata": {},
   "source": [
    "#### Ans: spam[2] = \"hello\" Index start from 0 Notice that the third value in a list is at index 2 because the first index is 0."
   ]
  },
  {
   "cell_type": "code",
   "execution_count": null,
   "id": "fae271fe",
   "metadata": {},
   "outputs": [],
   "source": []
  },
  {
   "cell_type": "markdown",
   "id": "b0185f19",
   "metadata": {},
   "source": [
    "Let't pretend the spam includes the list ['a','b','c','d'] for the next three queries.\n",
    "### 3. What is the value of spam[int(int(&#39;3&#39; * 2) / 11)]?"
   ]
  },
  {
   "cell_type": "code",
   "execution_count": 6,
   "id": "c7ca30ea",
   "metadata": {},
   "outputs": [
    {
     "data": {
      "text/plain": [
       "'d'"
      ]
     },
     "execution_count": 6,
     "metadata": {},
     "output_type": "execute_result"
    }
   ],
   "source": [
    "spam = ['a','b','c','d']\n",
    "spam[int(int('3'*2)/11)]"
   ]
  },
  {
   "cell_type": "markdown",
   "id": "85341748",
   "metadata": {},
   "source": [
    "#### Ans : 'd' ('3'*2 is the string'33',which is passed to int() before being divided by 11.Expressions can be used whenever values are used.)"
   ]
  },
  {
   "cell_type": "code",
   "execution_count": null,
   "id": "61c0625d",
   "metadata": {},
   "outputs": [],
   "source": []
  },
  {
   "cell_type": "markdown",
   "id": "3a2625f9",
   "metadata": {},
   "source": [
    "### 4. What is the value of spam[-1]?"
   ]
  },
  {
   "cell_type": "markdown",
   "id": "7b24c314",
   "metadata": {},
   "source": [
    "#### Ans : 'd'(Negative indexing start from -1)"
   ]
  },
  {
   "cell_type": "code",
   "execution_count": null,
   "id": "354a6300",
   "metadata": {},
   "outputs": [],
   "source": []
  },
  {
   "cell_type": "markdown",
   "id": "43f70b67",
   "metadata": {},
   "source": [
    "### 5. What is the value of spam[:2]?"
   ]
  },
  {
   "cell_type": "code",
   "execution_count": 7,
   "id": "8b11453a",
   "metadata": {},
   "outputs": [
    {
     "data": {
      "text/plain": [
       "['a', 'b']"
      ]
     },
     "execution_count": 7,
     "metadata": {},
     "output_type": "execute_result"
    }
   ],
   "source": [
    "spam[:2]"
   ]
  },
  {
   "cell_type": "markdown",
   "id": "97891fd9",
   "metadata": {},
   "source": [
    "#### Ans: ['a', 'b'] "
   ]
  },
  {
   "cell_type": "code",
   "execution_count": null,
   "id": "44ac640b",
   "metadata": {},
   "outputs": [],
   "source": []
  },
  {
   "cell_type": "markdown",
   "id": "700cb604",
   "metadata": {},
   "source": [
    "#### Lets pretend bacon has the list [3.14,'cat',11,'cat',True] for the next three questions."
   ]
  },
  {
   "cell_type": "code",
   "execution_count": 23,
   "id": "1b977717",
   "metadata": {},
   "outputs": [],
   "source": [
    "bacon = [3.14,'cat',11,'cat',True]"
   ]
  },
  {
   "cell_type": "markdown",
   "id": "ca67678f",
   "metadata": {},
   "source": [
    "### 6. What is the value of bacon.index('cat')?"
   ]
  },
  {
   "cell_type": "markdown",
   "id": "34b323c9",
   "metadata": {},
   "source": [
    "#### Ans : 1"
   ]
  },
  {
   "cell_type": "markdown",
   "id": "f66eed70",
   "metadata": {},
   "source": []
  },
  {
   "cell_type": "markdown",
   "id": "f6dfebf0",
   "metadata": {},
   "source": [
    "### 7. How does bacon.append(99) change the look of the list value in bacon?"
   ]
  },
  {
   "cell_type": "code",
   "execution_count": 26,
   "id": "f525817b",
   "metadata": {},
   "outputs": [],
   "source": [
    " bacon.append(99)"
   ]
  },
  {
   "cell_type": "code",
   "execution_count": 27,
   "id": "2ea34427",
   "metadata": {},
   "outputs": [
    {
     "data": {
      "text/plain": [
       "[3.14, 'cat', 11, 'cat', True, 99]"
      ]
     },
     "execution_count": 27,
     "metadata": {},
     "output_type": "execute_result"
    }
   ],
   "source": [
    "bacon"
   ]
  },
  {
   "cell_type": "code",
   "execution_count": null,
   "id": "860fb93e",
   "metadata": {},
   "outputs": [],
   "source": []
  },
  {
   "cell_type": "markdown",
   "id": "9856b7b2",
   "metadata": {},
   "source": [
    "### 8. How does bacon.remove(&#39;cat&#39;) change the look of the list in bacon?"
   ]
  },
  {
   "cell_type": "code",
   "execution_count": 28,
   "id": "e6738f73",
   "metadata": {},
   "outputs": [],
   "source": [
    "bacon.remove('cat')"
   ]
  },
  {
   "cell_type": "code",
   "execution_count": 29,
   "id": "c6ad0148",
   "metadata": {},
   "outputs": [
    {
     "data": {
      "text/plain": [
       "[3.14, 11, 'cat', True, 99]"
      ]
     },
     "execution_count": 29,
     "metadata": {},
     "output_type": "execute_result"
    }
   ],
   "source": [
    "bacon"
   ]
  },
  {
   "cell_type": "code",
   "execution_count": null,
   "id": "68da8a87",
   "metadata": {},
   "outputs": [],
   "source": []
  },
  {
   "cell_type": "markdown",
   "id": "84825575",
   "metadata": {},
   "source": [
    "### 9. What are the list concatenation and list replication operators?"
   ]
  },
  {
   "cell_type": "markdown",
   "id": "6233afb1",
   "metadata": {},
   "source": [
    "#### Ans : listconcatenation is +,while the operator for replication is *."
   ]
  },
  {
   "cell_type": "code",
   "execution_count": null,
   "id": "e2d5e8c6",
   "metadata": {},
   "outputs": [],
   "source": []
  },
  {
   "cell_type": "markdown",
   "id": "953f59d2",
   "metadata": {},
   "source": [
    "### 10. What is difference between the list methods append() and insert()?"
   ]
  },
  {
   "cell_type": "markdown",
   "id": "7ffebb69",
   "metadata": {},
   "source": [
    "#### Ans : While append() will add values only to the end of a list\n",
    "####            While insert() will add anywhere in the list"
   ]
  },
  {
   "cell_type": "code",
   "execution_count": null,
   "id": "7ea6aab1",
   "metadata": {},
   "outputs": [],
   "source": []
  },
  {
   "cell_type": "markdown",
   "id": "f99eb22e",
   "metadata": {},
   "source": [
    "### 11. What are the two methods for removing items from a list?"
   ]
  },
  {
   "cell_type": "markdown",
   "id": "ee8253f5",
   "metadata": {},
   "source": [
    "#### Ans : List method are two ways to remove values from a list 1) del statement 2) remove()"
   ]
  },
  {
   "cell_type": "code",
   "execution_count": null,
   "id": "0281d87a",
   "metadata": {},
   "outputs": [],
   "source": []
  },
  {
   "cell_type": "markdown",
   "id": "ca63e2cf",
   "metadata": {},
   "source": [
    "### 12. Describe how list values and string values are identical."
   ]
  },
  {
   "cell_type": "markdown",
   "id": "af082ff0",
   "metadata": {},
   "source": [
    "#### Ans : lists and string can be passed to len(),have indexes and slices,be used in for loops,be concatenated or relicated , and be used with the in and not in operators "
   ]
  },
  {
   "cell_type": "code",
   "execution_count": null,
   "id": "b577f26a",
   "metadata": {},
   "outputs": [],
   "source": []
  },
  {
   "cell_type": "markdown",
   "id": "12e29c41",
   "metadata": {},
   "source": [
    "### 13. What is the difference between tuples and lists?"
   ]
  },
  {
   "cell_type": "markdown",
   "id": "4365390f",
   "metadata": {},
   "source": [
    "#### Ans: 1) List : List is mutable data type and its store any type of data in list also list using square brackets[]\n",
    "####        2) tuple : tuple is immutable data type they cannot be changed at all also tuple using parentheses ()"
   ]
  },
  {
   "cell_type": "code",
   "execution_count": null,
   "id": "1a0688f2",
   "metadata": {},
   "outputs": [],
   "source": []
  },
  {
   "cell_type": "markdown",
   "id": "83922e5b",
   "metadata": {},
   "source": [
    "### 14. How do you type a tuple value that only contains the integer 42?"
   ]
  },
  {
   "cell_type": "markdown",
   "id": "6444335e",
   "metadata": {},
   "source": [
    "#### Ans: (42,) (The trailing comma is mandatory.)"
   ]
  },
  {
   "cell_type": "code",
   "execution_count": null,
   "id": "c414c31e",
   "metadata": {},
   "outputs": [],
   "source": []
  },
  {
   "cell_type": "markdown",
   "id": "f3fe75ec",
   "metadata": {},
   "source": [
    "### 15. How do you get a list value&#39;s tuple form? How do you get a tuple value&#39;s list form?"
   ]
  },
  {
   "cell_type": "markdown",
   "id": "e0b9dae2",
   "metadata": {},
   "source": [
    "#### Ans : the tuple() and list() "
   ]
  },
  {
   "cell_type": "code",
   "execution_count": null,
   "id": "b2ec6ada",
   "metadata": {},
   "outputs": [],
   "source": []
  },
  {
   "cell_type": "markdown",
   "id": "4b904ba7",
   "metadata": {},
   "source": [
    "### 16. Variables that &quot;contain&quot; list values are not necessarily lists themselves. Instead, what do they contain?"
   ]
  },
  {
   "cell_type": "markdown",
   "id": "2d1c59f2",
   "metadata": {},
   "source": [
    "#### Ans : They contain reference to list values"
   ]
  },
  {
   "cell_type": "code",
   "execution_count": null,
   "id": "8c941efd",
   "metadata": {},
   "outputs": [],
   "source": []
  },
  {
   "cell_type": "markdown",
   "id": "228e6706",
   "metadata": {},
   "source": [
    "### 17. How do you distinguish between copy.copy() and copy.deepcopy()?"
   ]
  },
  {
   "cell_type": "markdown",
   "id": "7729ceba",
   "metadata": {},
   "source": [
    "#### Ans : 1) copy.copy() = The copy.copy() function will do a shallow copy of a list\n",
    "####    2) copy.deepcopy() = The copy.deepcopy() function will do a deep copy of a list"
   ]
  },
  {
   "cell_type": "code",
   "execution_count": null,
   "id": "44d11fe7",
   "metadata": {},
   "outputs": [],
   "source": []
  }
 ],
 "metadata": {
  "kernelspec": {
   "display_name": "Python 3 (ipykernel)",
   "language": "python",
   "name": "python3"
  },
  "language_info": {
   "codemirror_mode": {
    "name": "ipython",
    "version": 3
   },
   "file_extension": ".py",
   "mimetype": "text/x-python",
   "name": "python",
   "nbconvert_exporter": "python",
   "pygments_lexer": "ipython3",
   "version": "3.9.12"
  }
 },
 "nbformat": 4,
 "nbformat_minor": 5
}
