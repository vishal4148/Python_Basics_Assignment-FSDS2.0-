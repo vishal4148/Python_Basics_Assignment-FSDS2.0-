{
 "cells": [
  {
   "cell_type": "markdown",
   "id": "dd90127f",
   "metadata": {},
   "source": [
    "#### 1:Write a Python program to find words which are greater than given length k?"
   ]
  },
  {
   "cell_type": "code",
   "execution_count": 1,
   "id": "a24d99a6",
   "metadata": {},
   "outputs": [
    {
     "name": "stdout",
     "output_type": "stream",
     "text": [
      "Enter a string: vishal is my name\n",
      "Enter a length: 3\n",
      "Words greater than length 3 :\n",
      "vishal\n",
      "name\n"
     ]
    }
   ],
   "source": [
    "string = input(\"Enter a string: \")\n",
    "k = int(input(\"Enter a length: \"))\n",
    "\n",
    "words = string.split()\n",
    "\n",
    "print(\"Words greater than length\", k, \":\")\n",
    "for word in words:\n",
    "    if len(word) > k:\n",
    "        print(word)"
   ]
  },
  {
   "cell_type": "code",
   "execution_count": null,
   "id": "dd7b8399",
   "metadata": {},
   "outputs": [],
   "source": []
  },
  {
   "cell_type": "markdown",
   "id": "9f13d22e",
   "metadata": {},
   "source": [
    "#### 2: Write a Python program for removing i-th character from a string?"
   ]
  },
  {
   "cell_type": "code",
   "execution_count": 2,
   "id": "d0b47f28",
   "metadata": {},
   "outputs": [
    {
     "name": "stdout",
     "output_type": "stream",
     "text": [
      "Enter a string: vishal boraste\n",
      "Enter an index to remove (0-indexed): 3\n",
      "Updated string: visal boraste\n"
     ]
    }
   ],
   "source": [
    "string = input(\"Enter a string: \")\n",
    "i = int(input(\"Enter an index to remove (0-indexed): \"))\n",
    "\n",
    "new_string = string[:i] + string[i+1:]\n",
    "\n",
    "print(\"Updated string:\", new_string)"
   ]
  },
  {
   "cell_type": "code",
   "execution_count": null,
   "id": "8515fd2c",
   "metadata": {},
   "outputs": [],
   "source": []
  },
  {
   "cell_type": "markdown",
   "id": "8d7461eb",
   "metadata": {},
   "source": [
    "#### 3:Write a Python program to split and join a string?"
   ]
  },
  {
   "cell_type": "code",
   "execution_count": 3,
   "id": "02e0c0c9",
   "metadata": {},
   "outputs": [
    {
     "name": "stdout",
     "output_type": "stream",
     "text": [
      "Enter a string: dat science\n",
      "Joined string: dat-science\n"
     ]
    }
   ],
   "source": [
    "string = input(\"Enter a string: \")\n",
    "\n",
    "words = string.split()\n",
    "\n",
    "delimiter = \"-\"\n",
    "joined_string = delimiter.join(words)\n",
    "\n",
    "print(\"Joined string:\", joined_string)"
   ]
  },
  {
   "cell_type": "code",
   "execution_count": null,
   "id": "861a3e0b",
   "metadata": {},
   "outputs": [],
   "source": []
  },
  {
   "cell_type": "markdown",
   "id": "285eaec1",
   "metadata": {},
   "source": [
    "#### 4:Write a Python to check if a given string is binary string or not?\n"
   ]
  },
  {
   "cell_type": "code",
   "execution_count": 4,
   "id": "96047a97",
   "metadata": {},
   "outputs": [
    {
     "name": "stdout",
     "output_type": "stream",
     "text": [
      "Enter a string: full stack data science\n",
      "The string is not a binary string\n"
     ]
    }
   ],
   "source": [
    "string = input(\"Enter a string: \")\n",
    "\n",
    "valid_binary_digits = {\"0\", \"1\"}\n",
    "\n",
    "is_binary = all(c in valid_binary_digits for c in string)\n",
    "\n",
    "if is_binary:\n",
    "    print(\"The string is a binary string\")\n",
    "else:\n",
    "    print(\"The string is not a binary string\")"
   ]
  },
  {
   "cell_type": "code",
   "execution_count": null,
   "id": "a37a737a",
   "metadata": {},
   "outputs": [],
   "source": []
  },
  {
   "cell_type": "markdown",
   "id": "61e1bd5d",
   "metadata": {},
   "source": [
    "#### 5:Write a Python program to find uncommon words from two Strings?"
   ]
  },
  {
   "cell_type": "code",
   "execution_count": 5,
   "id": "43f37189",
   "metadata": {},
   "outputs": [
    {
     "name": "stdout",
     "output_type": "stream",
     "text": [
      "Enter the first string: My name is vishal\n",
      "Enter the second string: vishal is doing data science\n",
      "Uncommon words: {'doing', 'My', 'science', 'data', 'name'}\n"
     ]
    }
   ],
   "source": [
    "string1 = input(\"Enter the first string: \")\n",
    "string2 = input(\"Enter the second string: \")\n",
    "\n",
    "words1 = string1.split()\n",
    "words2 = string2.split()\n",
    "\n",
    "uncommon_words = set(words1).symmetric_difference(set(words2))\n",
    "\n",
    "print(\"Uncommon words:\", uncommon_words)"
   ]
  },
  {
   "cell_type": "code",
   "execution_count": null,
   "id": "068958f7",
   "metadata": {},
   "outputs": [],
   "source": []
  },
  {
   "cell_type": "markdown",
   "id": "47e12276",
   "metadata": {},
   "source": [
    "#### 6:Write a Python to find all duplicate characters in string?"
   ]
  },
  {
   "cell_type": "code",
   "execution_count": 7,
   "id": "2d54d485",
   "metadata": {},
   "outputs": [
    {
     "name": "stdout",
     "output_type": "stream",
     "text": [
      "Enter a string: python programming\n",
      "Duplicate characters: {'n', 'm', 'r', 'g', 'o', 'p'}\n"
     ]
    }
   ],
   "source": [
    "string = input(\"Enter a string: \")\n",
    "\n",
    "duplicate_chars = set()\n",
    "\n",
    "for char in string:\n",
    "    if string.count(char) > 1:\n",
    "        duplicate_chars.add(char)\n",
    "\n",
    "print(\"Duplicate characters:\", duplicate_chars)"
   ]
  },
  {
   "cell_type": "code",
   "execution_count": null,
   "id": "8036b95f",
   "metadata": {},
   "outputs": [],
   "source": []
  },
  {
   "cell_type": "markdown",
   "id": "08985748",
   "metadata": {},
   "source": [
    "#### 7:Write a Python Program to check if a string contains any special character?"
   ]
  },
  {
   "cell_type": "code",
   "execution_count": 8,
   "id": "777e94de",
   "metadata": {},
   "outputs": [
    {
     "name": "stdout",
     "output_type": "stream",
     "text": [
      "Enter a string: vishal @ boraste\n",
      "String contains special characters.\n"
     ]
    }
   ],
   "source": [
    "import re\n",
    "\n",
    "string = input(\"Enter a string: \")\n",
    "\n",
    "pattern = re.compile('[\\W_]+')\n",
    "\n",
    "if pattern.search(string):\n",
    "    print(\"String contains special characters.\")\n",
    "else:\n",
    "    print(\"String does not contain any special characters.\")"
   ]
  },
  {
   "cell_type": "code",
   "execution_count": null,
   "id": "109c652f",
   "metadata": {},
   "outputs": [],
   "source": []
  }
 ],
 "metadata": {
  "kernelspec": {
   "display_name": "Python 3 (ipykernel)",
   "language": "python",
   "name": "python3"
  },
  "language_info": {
   "codemirror_mode": {
    "name": "ipython",
    "version": 3
   },
   "file_extension": ".py",
   "mimetype": "text/x-python",
   "name": "python",
   "nbconvert_exporter": "python",
   "pygments_lexer": "ipython3",
   "version": "3.11.2"
  }
 },
 "nbformat": 4,
 "nbformat_minor": 5
}
