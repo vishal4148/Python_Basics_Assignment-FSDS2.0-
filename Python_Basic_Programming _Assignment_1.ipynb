{
 "cells": [
  {
   "cell_type": "markdown",
   "id": "a76b8fa4",
   "metadata": {},
   "source": [
    "#### 1.  Write a Python program to print \"Hello Python\"?"
   ]
  },
  {
   "cell_type": "code",
   "execution_count": 1,
   "id": "61987566",
   "metadata": {},
   "outputs": [
    {
     "name": "stdout",
     "output_type": "stream",
     "text": [
      "Hello Python\n"
     ]
    }
   ],
   "source": [
    "print(\"Hello Python\")"
   ]
  },
  {
   "cell_type": "code",
   "execution_count": null,
   "id": "f5b02dcc",
   "metadata": {},
   "outputs": [],
   "source": []
  },
  {
   "cell_type": "markdown",
   "id": "e56c6fbc",
   "metadata": {},
   "source": [
    "#### 2.  Write a Python program to do arithmetical operations addition and division.?"
   ]
  },
  {
   "cell_type": "code",
   "execution_count": 2,
   "id": "c0277003",
   "metadata": {},
   "outputs": [
    {
     "name": "stdout",
     "output_type": "stream",
     "text": [
      "Enter the first number: 11\n",
      "Enter the second number: 34\n",
      "The sum of 11 and 34 is: 45 and division of 11 and 34 is: 0.3235294117647059\n"
     ]
    }
   ],
   "source": [
    "a=int(input(\"Enter the first number: \"))\n",
    "b=int(input(\"Enter the second number: \"))\n",
    "\n",
    "print(f\"The sum of {a} and {b} is: {a+b} and division of {a} and {b} is: {a/b}\")\n",
    "     "
   ]
  },
  {
   "cell_type": "code",
   "execution_count": null,
   "id": "4e234832",
   "metadata": {},
   "outputs": [],
   "source": []
  },
  {
   "cell_type": "markdown",
   "id": "22a9bdb5",
   "metadata": {},
   "source": [
    "#### 3.  Write a Python program to find the area of a triangle?"
   ]
  },
  {
   "cell_type": "code",
   "execution_count": 3,
   "id": "b180f5a2",
   "metadata": {},
   "outputs": [
    {
     "name": "stdout",
     "output_type": "stream",
     "text": [
      "Enter the value of base: 22\n",
      "Enter the value of height: 12\n",
      "Area of triangle for base 22 and height 12 is: 132.0\n"
     ]
    }
   ],
   "source": [
    "base=int(input(\"Enter the value of base: \"))\n",
    "height=int(input(\"Enter the value of height: \"))\n",
    "\n",
    "print(f\"Area of triangle for base {base} and height {height} is: {0.5*base*height}\")"
   ]
  },
  {
   "cell_type": "code",
   "execution_count": null,
   "id": "8e4448de",
   "metadata": {},
   "outputs": [],
   "source": []
  },
  {
   "cell_type": "markdown",
   "id": "0ea25560",
   "metadata": {},
   "source": [
    "#### 4.  Write a Python program to swap two variables?"
   ]
  },
  {
   "cell_type": "code",
   "execution_count": 5,
   "id": "e04ea3a7",
   "metadata": {},
   "outputs": [
    {
     "name": "stdout",
     "output_type": "stream",
     "text": [
      "Enter the first number: 1\n",
      "Enter the second number: 2\n",
      "The numbers before swapping are: 1 and 2\n",
      "The numbers after swapping are: 2 and 1\n"
     ]
    }
   ],
   "source": [
    "a=int(input(\"Enter the first number: \"))\n",
    "b=int(input(\"Enter the second number: \"))\n",
    "print(f\"The numbers before swapping are: {a} and {b}\")\n",
    "a,b=b,a\n",
    "\n",
    "print(f\"The numbers after swapping are: {a} and {b}\")"
   ]
  },
  {
   "cell_type": "code",
   "execution_count": null,
   "id": "e7fd45c7",
   "metadata": {},
   "outputs": [],
   "source": []
  },
  {
   "cell_type": "markdown",
   "id": "48d2a908",
   "metadata": {},
   "source": [
    "#### 5.  Write a Python program to generate a random number?"
   ]
  },
  {
   "cell_type": "code",
   "execution_count": 6,
   "id": "8a3dc9d8",
   "metadata": {},
   "outputs": [
    {
     "name": "stdout",
     "output_type": "stream",
     "text": [
      "Random number: 15382\n"
     ]
    }
   ],
   "source": [
    "import random\n",
    "\n",
    "# generate a random number between 1 and 100\n",
    "random_number = random.randint(1, 100000)\n",
    "\n",
    "print(\"Random number:\", random_number)"
   ]
  },
  {
   "cell_type": "code",
   "execution_count": null,
   "id": "d7aaa626",
   "metadata": {},
   "outputs": [],
   "source": []
  }
 ],
 "metadata": {
  "kernelspec": {
   "display_name": "Python 3 (ipykernel)",
   "language": "python",
   "name": "python3"
  },
  "language_info": {
   "codemirror_mode": {
    "name": "ipython",
    "version": 3
   },
   "file_extension": ".py",
   "mimetype": "text/x-python",
   "name": "python",
   "nbconvert_exporter": "python",
   "pygments_lexer": "ipython3",
   "version": "3.11.2"
  }
 },
 "nbformat": 4,
 "nbformat_minor": 5
}
