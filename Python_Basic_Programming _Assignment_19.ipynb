{
 "cells": [
  {
   "cell_type": "markdown",
   "id": "9e870436",
   "metadata": {},
   "source": [
    "#### Question1 Create a function that takes a string and returns a string in which each character is repeated once."
   ]
  },
  {
   "cell_type": "code",
   "execution_count": 1,
   "id": "d0f83881",
   "metadata": {},
   "outputs": [
    {
     "name": "stdout",
     "output_type": "stream",
     "text": [
      "hheelllloo\n"
     ]
    }
   ],
   "source": [
    "def repeat_characters(input_str):\n",
    "    return \"\".join(char*2 for char in input_str)\n",
    "\n",
    "# example usage\n",
    "print(repeat_characters(\"hello\"))"
   ]
  },
  {
   "cell_type": "markdown",
   "id": "db16eda0",
   "metadata": {},
   "source": [
    "#### Question2 Create a function that reverses a boolean value and returns the string \"boolean expected\" if another variable type is given."
   ]
  },
  {
   "cell_type": "code",
   "execution_count": 2,
   "id": "efdd19e3",
   "metadata": {},
   "outputs": [
    {
     "name": "stdout",
     "output_type": "stream",
     "text": [
      "False\n",
      "boolean expected\n"
     ]
    }
   ],
   "source": [
    "def reverse_boolean(bool_value):\n",
    "    if type(bool_value) == bool:\n",
    "        return not bool_value\n",
    "    else:\n",
    "        return \"boolean expected\"\n",
    "\n",
    "# example usage\n",
    "print(reverse_boolean(True))\n",
    "print(reverse_boolean(\"True\"))"
   ]
  },
  {
   "cell_type": "code",
   "execution_count": null,
   "id": "3290e9a2",
   "metadata": {},
   "outputs": [],
   "source": []
  },
  {
   "cell_type": "markdown",
   "id": "3b87ce77",
   "metadata": {},
   "source": [
    "#### Question3 Create a function that returns the thickness (in meters) of a piece of paper after folding it n number of times. The paper starts off with a thickness of 0.5mm."
   ]
  },
  {
   "cell_type": "code",
   "execution_count": 3,
   "id": "19b5fc12",
   "metadata": {},
   "outputs": [
    {
     "name": "stdout",
     "output_type": "stream",
     "text": [
      "0.004\n"
     ]
    }
   ],
   "source": [
    "def paper_thickness(n):\n",
    "    # convert 0.5mm to meters\n",
    "    thickness = 0.0005\n",
    "    \n",
    "    # double the thickness of the paper n times\n",
    "    for i in range(n):\n",
    "        thickness *= 2\n",
    "    \n",
    "    return thickness\n",
    "\n",
    "# example usage\n",
    "print(paper_thickness(3))  # prints 0.004"
   ]
  },
  {
   "cell_type": "code",
   "execution_count": null,
   "id": "2de87a4d",
   "metadata": {},
   "outputs": [],
   "source": []
  },
  {
   "cell_type": "markdown",
   "id": "6c734e47",
   "metadata": {},
   "source": [
    "#### Question4 Create a function that takes a single string as argument and returns an ordered list containing the indices of all capital letters in the string."
   ]
  },
  {
   "cell_type": "code",
   "execution_count": 5,
   "id": "1710fd1b",
   "metadata": {},
   "outputs": [
    {
     "name": "stdout",
     "output_type": "stream",
     "text": [
      "[0, 6]\n"
     ]
    }
   ],
   "source": [
    "def capital_indices(s):\n",
    "    indices = []    \n",
    "    for i in range(len(s)):\n",
    "        if s[i].isupper():\n",
    "            indices.append(i)  \n",
    "    return indices\n",
    "print(capital_indices(\"Hello World\"))  # prints [0, 1, 2, 8]"
   ]
  },
  {
   "cell_type": "code",
   "execution_count": null,
   "id": "517f4387",
   "metadata": {},
   "outputs": [],
   "source": []
  },
  {
   "cell_type": "markdown",
   "id": "eec82f0b",
   "metadata": {},
   "source": [
    "#### Question5 Using list comprehensions, create a function that finds all even numbers from 1 to the given number."
   ]
  },
  {
   "cell_type": "code",
   "execution_count": 7,
   "id": "0f633fdc",
   "metadata": {},
   "outputs": [
    {
     "name": "stdout",
     "output_type": "stream",
     "text": [
      "[2, 4, 6, 8, 10]\n"
     ]
    }
   ],
   "source": [
    "def find_even_numbers(n):\n",
    "    even_numbers = [i for i in range(1, n+1) if i % 2 == 0]\n",
    "    return even_numbers\n",
    "print(find_even_numbers(10))"
   ]
  },
  {
   "cell_type": "code",
   "execution_count": null,
   "id": "b54795ad",
   "metadata": {},
   "outputs": [],
   "source": []
  }
 ],
 "metadata": {
  "kernelspec": {
   "display_name": "Python 3 (ipykernel)",
   "language": "python",
   "name": "python3"
  },
  "language_info": {
   "codemirror_mode": {
    "name": "ipython",
    "version": 3
   },
   "file_extension": ".py",
   "mimetype": "text/x-python",
   "name": "python",
   "nbconvert_exporter": "python",
   "pygments_lexer": "ipython3",
   "version": "3.11.2"
  }
 },
 "nbformat": 4,
 "nbformat_minor": 5
}
