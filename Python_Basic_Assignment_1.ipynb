{
 "cells": [
  {
   "cell_type": "markdown",
   "id": "5060a949",
   "metadata": {},
   "source": [
    "### 1. In the below elements which of them are values or an expression? eg:- values can be integer or string and expressions will be mathematical operators.\n",
    "* \n",
    "'hello'\n",
    "-87.8\n",
    "- \n",
    "/ \n",
    "+\t\n",
    "6 \n"
   ]
  },
  {
   "cell_type": "code",
   "execution_count": null,
   "id": "42177fb9",
   "metadata": {},
   "outputs": [],
   "source": [
    "1:'hello'= string\n",
    "2: 87.8 = float\n",
    "3: /    = Division\n",
    "4: 6    = int"
   ]
  },
  {
   "cell_type": "code",
   "execution_count": null,
   "id": "3141967c",
   "metadata": {},
   "outputs": [],
   "source": []
  },
  {
   "cell_type": "markdown",
   "id": "c2a40070",
   "metadata": {},
   "source": [
    "### 2. What is the difference between string and variable?"
   ]
  },
  {
   "cell_type": "code",
   "execution_count": null,
   "id": "e11daceb",
   "metadata": {},
   "outputs": [],
   "source": [
    "1) string : string is a type of information you should store in variable.A string is usually words.\n",
    "ex= \"vishal vijay boraste\"\n",
    "\n",
    "2) variable : Variable is store of information \n",
    "ex = vishal= \"Welcome to full stack datascience\""
   ]
  },
  {
   "cell_type": "code",
   "execution_count": null,
   "id": "404c8bea",
   "metadata": {},
   "outputs": [],
   "source": []
  },
  {
   "cell_type": "markdown",
   "id": "54335360",
   "metadata": {},
   "source": [
    "### 3. Describe three different data types."
   ]
  },
  {
   "cell_type": "code",
   "execution_count": null,
   "id": "82b9c314",
   "metadata": {},
   "outputs": [],
   "source": [
    "int : 12\n",
    "float : 12.6\n",
    "str : \"vishal vijay boraste\"\n"
   ]
  },
  {
   "cell_type": "code",
   "execution_count": null,
   "id": "f2a8bf86",
   "metadata": {},
   "outputs": [],
   "source": []
  },
  {
   "cell_type": "markdown",
   "id": "85f110da",
   "metadata": {},
   "source": [
    "### 4. What is an expression made up of? What do all expressions do?"
   ]
  },
  {
   "cell_type": "code",
   "execution_count": null,
   "id": "bed40d70",
   "metadata": {},
   "outputs": [],
   "source": [
    "An expression is a combination of operators."
   ]
  },
  {
   "cell_type": "code",
   "execution_count": null,
   "id": "087ff6d8",
   "metadata": {},
   "outputs": [],
   "source": []
  },
  {
   "cell_type": "markdown",
   "id": "04d8e566",
   "metadata": {},
   "source": [
    "### 5. This assignment statements, like spam = 10. What is the difference between an expression and a statement?"
   ]
  },
  {
   "cell_type": "markdown",
   "id": "896c1d37",
   "metadata": {},
   "source": [
    "## Expression\n",
    "\n",
    "Expressions always returns a value\n",
    "Functions are also expressions. Even a non returning function will still return None value, so it is an expression.\n",
    "Can print the result value\n",
    "Examples Of Python Expressions: “Hello” + “World”, 4 + 5 etc.\n"
   ]
  },
  {
   "cell_type": "markdown",
   "id": "aabdc9ab",
   "metadata": {},
   "source": [
    "## Statement\n",
    "\n",
    "A statement never returns a value\n",
    "Cannot print any result\n",
    "Examples Of Python Statements: Assignment statements, conditional branching, loops, classes, import, def, try, except, pass, del etc"
   ]
  },
  {
   "cell_type": "code",
   "execution_count": null,
   "id": "20d23315",
   "metadata": {},
   "outputs": [],
   "source": []
  },
  {
   "cell_type": "markdown",
   "id": "7bc9bacd",
   "metadata": {},
   "source": [
    "### 6. After running the following code, what does the variable bacon contain?\n",
    "bacon = 22\n",
    "bacon + 1"
   ]
  },
  {
   "cell_type": "code",
   "execution_count": 2,
   "id": "11fb1d8d",
   "metadata": {},
   "outputs": [
    {
     "data": {
      "text/plain": [
       "23"
      ]
     },
     "execution_count": 2,
     "metadata": {},
     "output_type": "execute_result"
    }
   ],
   "source": [
    "bacon = 22 \n",
    "bacon + 1"
   ]
  },
  {
   "cell_type": "code",
   "execution_count": null,
   "id": "1dcad0db",
   "metadata": {},
   "outputs": [],
   "source": []
  },
  {
   "cell_type": "markdown",
   "id": "058320e4",
   "metadata": {},
   "source": [
    "### 7. What should the values of the following two terms be?\n",
    "&#39;spam&#39; + &#39;spamspam&#39;\n",
    "&#39;spam&#39; * 3"
   ]
  },
  {
   "cell_type": "code",
   "execution_count": 3,
   "id": "1646c9f9",
   "metadata": {},
   "outputs": [
    {
     "data": {
      "text/plain": [
       "'spamspamspam'"
      ]
     },
     "execution_count": 3,
     "metadata": {},
     "output_type": "execute_result"
    }
   ],
   "source": [
    "'spam' + 'spamspam'\n",
    "'spam' * 3\n"
   ]
  },
  {
   "cell_type": "code",
   "execution_count": null,
   "id": "eb0089d3",
   "metadata": {},
   "outputs": [],
   "source": []
  },
  {
   "cell_type": "markdown",
   "id": "000f88e2",
   "metadata": {},
   "source": [
    "### 8. Why is eggs a valid variable name while 100 is invalid?"
   ]
  },
  {
   "cell_type": "code",
   "execution_count": null,
   "id": "a904d86b",
   "metadata": {},
   "outputs": [],
   "source": [
    "Use of a digit(100) to begin a variable name makes error checking \n",
    "during compilation orinterpertation a lot more complicated. That why we not use 100(int) values in variable."
   ]
  },
  {
   "cell_type": "code",
   "execution_count": null,
   "id": "7679e29c",
   "metadata": {},
   "outputs": [],
   "source": []
  },
  {
   "cell_type": "markdown",
   "id": "1d1b231f",
   "metadata": {},
   "source": [
    "### 9. What three functions can be used to get the integer, floating-point number, or string version of a value?"
   ]
  },
  {
   "cell_type": "code",
   "execution_count": null,
   "id": "16d236b4",
   "metadata": {},
   "outputs": [],
   "source": [
    "1) int()\n",
    "2) float()\n",
    "3) str()"
   ]
  },
  {
   "cell_type": "code",
   "execution_count": null,
   "id": "0cf0bc20",
   "metadata": {},
   "outputs": [],
   "source": []
  },
  {
   "cell_type": "markdown",
   "id": "bc7319ec",
   "metadata": {},
   "source": [
    "### 10. Why does this expression cause an error? How can you fix it?\n",
    "'I have eaten ' + 99 + ' burritos.'\n"
   ]
  },
  {
   "cell_type": "code",
   "execution_count": 2,
   "id": "d1288f90",
   "metadata": {},
   "outputs": [],
   "source": [
    "a = 'I have eaten ' + '99' + ' burritos.'"
   ]
  },
  {
   "cell_type": "code",
   "execution_count": 4,
   "id": "e3c0ae59",
   "metadata": {},
   "outputs": [
    {
     "name": "stdout",
     "output_type": "stream",
     "text": [
      "I have eaten 99 burritos.\n"
     ]
    }
   ],
   "source": [
    "print(a)"
   ]
  },
  {
   "cell_type": "code",
   "execution_count": null,
   "id": "9d55872c",
   "metadata": {},
   "outputs": [],
   "source": []
  }
 ],
 "metadata": {
  "kernelspec": {
   "display_name": "Python 3 (ipykernel)",
   "language": "python",
   "name": "python3"
  },
  "language_info": {
   "codemirror_mode": {
    "name": "ipython",
    "version": 3
   },
   "file_extension": ".py",
   "mimetype": "text/x-python",
   "name": "python",
   "nbconvert_exporter": "python",
   "pygments_lexer": "ipython3",
   "version": "3.9.12"
  }
 },
 "nbformat": 4,
 "nbformat_minor": 5
}
